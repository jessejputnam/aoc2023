{
 "cells": [
  {
   "cell_type": "code",
   "execution_count": 1,
   "metadata": {},
   "outputs": [],
   "source": [
    "# ! Not finished\n",
    "\n",
    "from lib.func import fetch"
   ]
  },
  {
   "cell_type": "code",
   "execution_count": 30,
   "metadata": {},
   "outputs": [],
   "source": [
    "def buildMatrix(data):\n",
    "    rows = data.split('\\n')\n",
    "    return [list(row) for row in rows]"
   ]
  },
  {
   "cell_type": "code",
   "execution_count": 31,
   "metadata": {},
   "outputs": [],
   "source": [
    "data = '''7-F7-\n",
    ".FJ|7\n",
    "SJLL7\n",
    "|F--J\n",
    "LJ.LJ'''\n",
    "data = buildMatrix(data)"
   ]
  },
  {
   "cell_type": "code",
   "execution_count": 77,
   "metadata": {},
   "outputs": [],
   "source": [
    "data = '''.....\n",
    ".S-7.\n",
    ".|.|.\n",
    ".L-J.\n",
    ".....'''\n",
    "data = buildMatrix(data)"
   ]
  },
  {
   "cell_type": "markdown",
   "metadata": {},
   "source": [
    "## Part 1"
   ]
  },
  {
   "cell_type": "markdown",
   "metadata": {},
   "source": [
    "### Functions"
   ]
  },
  {
   "cell_type": "code",
   "execution_count": 174,
   "metadata": {},
   "outputs": [],
   "source": [
    "def getCxn(tile):\n",
    "    cxns = { 'S': True, '.': None, '|': 'ns', '-': 'ew', 'L': 'ne', 'J': 'nw', '7': 'sw', 'F': 'se' }\n",
    "    return cxns.get(tile)\n",
    "\n",
    "def getStart(data):\n",
    "    for i, row in enumerate(data):\n",
    "        for j, cell in enumerate(row):\n",
    "            if cell == 'S':\n",
    "                return [i, j]\n",
    "            \n",
    "def getValidCoords(coord, prev, n):\n",
    "    valid_coords = []\n",
    "    valid_coords.append([coord[0] - 1, coord[1]] if coord[0] > 0 else None)\n",
    "    valid_coords.append([coord[0], coord[1] + 1] if coord[1] < (n - 1) else None)\n",
    "    valid_coords.append([coord[0] + 1, coord[1]] if coord[0] < (n - 1) else None)\n",
    "    valid_coords.append([coord[0], coord[1] - 1] if coord[1] > 0 else None)\n",
    "\n",
    "    print(f'_______________________ {valid_coords}')\n",
    "    print(f'_______________________ {prev}')\n",
    "    return [None if x == prev else x for x in valid_coords]\n",
    "\n",
    "def removeInvalidCoordsSend(cell, prev, valid_coords):\n",
    "    pipes = ['7F|', '-J7', '|LJ', '-LF']\n",
    "    for i in range(4):\n",
    "        if (cell in pipes[i]) or (valid_coords[i] == prev):\n",
    "            valid_coords[i] = None\n",
    "\n",
    "def removeInvalidCoordsReceive(valid_coords, prev, data):\n",
    "    pipes = ['7F|', '-J7', '|LJ', '-LF']\n",
    "    for i in range(4):\n",
    "        if valid_coords[i]:\n",
    "            cell = data[valid_coords[i][0]][valid_coords[i][1]]\n",
    "\n",
    "            if (valid_coords[i] == prev) or (cell not in pipes[i]):\n",
    "                valid_coords[i] = None\n",
    "            \n",
    "def getPossibleCells(coord, prev, data):\n",
    "    cell = data[coord[0]][coord[1]]\n",
    "    n = len(data)\n",
    "\n",
    "    print(f'---- cell: {cell}')\n",
    "    valid_coords = getValidCoords(coord, prev, n)\n",
    "    print(f'---- valid_coords: {valid_coords}')\n",
    "    removeInvalidCoordsSend(cell, prev, valid_coords)\n",
    "    print(f'---- valid_send: {valid_coords}')\n",
    "    removeInvalidCoordsReceive(valid_coords, coord, data)\n",
    "    print(f'---- valid_receive: {valid_coords}')\n",
    "\n",
    "    return [x for x in valid_coords if x]\n",
    "\n",
    "def findPath(data, coord, end, path = []):\n",
    "    print(f'coord: {coord} :: {path}')\n",
    "    if coord == end:\n",
    "        path.append(coord)\n",
    "        return path\n",
    "\n",
    "    possible_coords = getPossibleCells(coord, None if len(path) == 0 else path[-1], data)\n",
    "    print(f'pos_coords: {possible_coords}')\n",
    "\n",
    "    for c in possible_coords:\n",
    "        findPath(data, c, end, path + [coord])\n",
    "    \n",
    "    # possible_cells = getPossibleCells(path[-1], data)\n",
    "        \n",
    "\n",
    "    \n",
    "        "
   ]
  },
  {
   "cell_type": "markdown",
   "metadata": {},
   "source": [
    "### Solution"
   ]
  },
  {
   "cell_type": "code",
   "execution_count": 172,
   "metadata": {},
   "outputs": [],
   "source": [
    "def solvePart1(data):\n",
    "    start = getStart(data)\n",
    "    begin, end = getPossibleCells(start, None, data)\n",
    "    print(begin, end)\n",
    "\n",
    "    path = findPath(data, begin, end)\n",
    "    \n",
    "    # return getPossibleCells([0, 0], 'S', len(data))"
   ]
  },
  {
   "cell_type": "code",
   "execution_count": 175,
   "metadata": {},
   "outputs": [
    {
     "name": "stdout",
     "output_type": "stream",
     "text": [
      "---- cell: S\n",
      "_______________________ [[0, 1], [1, 2], [2, 1], [1, 0]]\n",
      "_______________________ None\n",
      "---- valid_coords: [[0, 1], [1, 2], [2, 1], [1, 0]]\n",
      "---- valid_send: [[0, 1], [1, 2], [2, 1], [1, 0]]\n",
      "---- valid_receive: [None, [1, 2], [2, 1], None]\n",
      "[1, 2] [2, 1]\n",
      "coord: [1, 2] :: []\n",
      "---- cell: -\n",
      "_______________________ [[0, 2], [1, 3], [2, 2], [1, 1]]\n",
      "_______________________ None\n",
      "---- valid_coords: [[0, 2], [1, 3], [2, 2], [1, 1]]\n",
      "---- valid_send: [[0, 2], None, [2, 2], None]\n",
      "---- valid_receive: [None, None, None, None]\n",
      "pos_coords: []\n"
     ]
    }
   ],
   "source": [
    "solvePart1(data)"
   ]
  },
  {
   "cell_type": "code",
   "execution_count": 164,
   "metadata": {},
   "outputs": [
    {
     "data": {
      "text/plain": [
       "True"
      ]
     },
     "execution_count": 164,
     "metadata": {},
     "output_type": "execute_result"
    }
   ],
   "source": [
    "None == None"
   ]
  },
  {
   "cell_type": "code",
   "execution_count": null,
   "metadata": {},
   "outputs": [],
   "source": []
  }
 ],
 "metadata": {
  "kernelspec": {
   "display_name": "Python 3",
   "language": "python",
   "name": "python3"
  },
  "language_info": {
   "codemirror_mode": {
    "name": "ipython",
    "version": 3
   },
   "file_extension": ".py",
   "mimetype": "text/x-python",
   "name": "python",
   "nbconvert_exporter": "python",
   "pygments_lexer": "ipython3",
   "version": "3.11.6"
  }
 },
 "nbformat": 4,
 "nbformat_minor": 2
}
