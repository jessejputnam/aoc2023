{
 "cells": [
  {
   "cell_type": "code",
   "execution_count": 1,
   "metadata": {},
   "outputs": [],
   "source": [
    "#!! Part 2 Not finished\n",
    "\n",
    "from lib.func import fetch"
   ]
  },
  {
   "cell_type": "code",
   "execution_count": 2,
   "metadata": {},
   "outputs": [],
   "source": [
    "def buildMatrix(data):\n",
    "    rows = data.split('\\n')\n",
    "    return [list(row) for row in rows]"
   ]
  },
  {
   "cell_type": "code",
   "execution_count": 102,
   "metadata": {},
   "outputs": [],
   "source": [
    "data = '''7-F7-\n",
    ".FJ|7\n",
    "SJLL7\n",
    "|F--J\n",
    "LJ.LJ'''\n",
    "data = buildMatrix(data)"
   ]
  },
  {
   "cell_type": "code",
   "execution_count": 54,
   "metadata": {},
   "outputs": [],
   "source": [
    "data = '''.....\n",
    ".S-7.\n",
    ".|.|.\n",
    ".L-J.\n",
    ".....'''\n",
    "data = buildMatrix(data)"
   ]
  },
  {
   "cell_type": "code",
   "execution_count": 117,
   "metadata": {},
   "outputs": [],
   "source": [
    "data = buildMatrix(fetch(10))\n"
   ]
  },
  {
   "cell_type": "markdown",
   "metadata": {},
   "source": [
    "## Part 1"
   ]
  },
  {
   "cell_type": "markdown",
   "metadata": {},
   "source": [
    "### Functions"
   ]
  },
  {
   "cell_type": "code",
   "execution_count": 112,
   "metadata": {},
   "outputs": [],
   "source": [
    "# Find starting cell coords\n",
    "def getStart(data):\n",
    "    for i, row in enumerate(data):\n",
    "        for j, cell in enumerate(row):\n",
    "            if cell == 'S':\n",
    "                return [i, j]\n",
    "            \n",
    "\n",
    "# Return the coordinates with valid numbers within n x n matrix\n",
    "def getValidCoords(coord, prev, n):\n",
    "    valid_coords = []\n",
    "    valid_coords.append([coord[0] - 1, coord[1]] if coord[0] > 0 else None)\n",
    "    valid_coords.append([coord[0], coord[1] + 1] if coord[1] < (n - 1) else None)\n",
    "    valid_coords.append([coord[0] + 1, coord[1]] if coord[0] < (n - 1) else None)\n",
    "    valid_coords.append([coord[0], coord[1] - 1] if coord[1] > 0 else None)\n",
    "    return [None if x == prev else x for x in valid_coords]\n",
    "\n",
    "\n",
    "# Remove coordinates that are invalid based on sending cell\n",
    "def removeInvalidCoordsSend(cell, prev, valid_coords):\n",
    "    pipes = ['|LJS', '-LFS', '7F|S', '-J7S']\n",
    "    for i in range(4):\n",
    "        if (cell not in pipes[i]) or (valid_coords[i] == prev):\n",
    "            valid_coords[i] = None\n",
    "\n",
    "\n",
    "# Remove coordinates that are invalid based on receiving cell\n",
    "def removeInvalidCoordsReceive(valid_coords, prev, data):\n",
    "    pipes = ['7F|', '-J7', '|LJ', '-LF']\n",
    "    for i in range(4):\n",
    "        if valid_coords[i]:\n",
    "            cell = data[valid_coords[i][0]][valid_coords[i][1]]\n",
    "\n",
    "            if (valid_coords[i] == prev) or (cell not in pipes[i]):\n",
    "                valid_coords[i] = None\n",
    "        \n",
    "# Get the cell(s) that is capable of receiving from the current cell\n",
    "def getPossibleCells(coord, prev, data):\n",
    "    cell = data[coord[0]][coord[1]]\n",
    "    n = len(data)\n",
    "    valid_coords = getValidCoords(coord, prev, n)\n",
    "    removeInvalidCoordsSend(cell, prev, valid_coords)\n",
    "    removeInvalidCoordsReceive(valid_coords, coord, data)\n",
    "    return [x for x in valid_coords if x]\n",
    "\n",
    "# Get the path taken\n",
    "def findPath(data, start, begin, end):\n",
    "    path = [start]\n",
    "    count = 0\n",
    "\n",
    "    coord = begin\n",
    "    while not coord == end:\n",
    "        count += 1\n",
    "        path.append(coord)\n",
    "        coord = getPossibleCells(coord, None if len(path) == 1 else path[-2], data)[0]\n",
    "        \n",
    "    return path + [coord]"
   ]
  },
  {
   "cell_type": "markdown",
   "metadata": {},
   "source": [
    "### Solution"
   ]
  },
  {
   "cell_type": "code",
   "execution_count": 115,
   "metadata": {},
   "outputs": [],
   "source": [
    "def solvePart1(data):\n",
    "    start = getStart(data)\n",
    "    begin, end = getPossibleCells(start, None, data)\n",
    "    path = findPath(data, start, begin, end)\n",
    "\n",
    "    return round(len(path) / 2)"
   ]
  },
  {
   "cell_type": "code",
   "execution_count": 118,
   "metadata": {},
   "outputs": [
    {
     "data": {
      "text/plain": [
       "6599"
      ]
     },
     "execution_count": 118,
     "metadata": {},
     "output_type": "execute_result"
    }
   ],
   "source": [
    "solvePart1(data)"
   ]
  }
 ],
 "metadata": {
  "kernelspec": {
   "display_name": "Python 3",
   "language": "python",
   "name": "python3"
  },
  "language_info": {
   "codemirror_mode": {
    "name": "ipython",
    "version": 3
   },
   "file_extension": ".py",
   "mimetype": "text/x-python",
   "name": "python",
   "nbconvert_exporter": "python",
   "pygments_lexer": "ipython3",
   "version": "3.11.6"
  }
 },
 "nbformat": 4,
 "nbformat_minor": 2
}
