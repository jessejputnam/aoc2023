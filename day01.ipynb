{
 "cells": [
  {
   "cell_type": "code",
   "execution_count": 1,
   "metadata": {},
   "outputs": [],
   "source": [
    "from lib.func import fetch, reduce"
   ]
  },
  {
   "cell_type": "code",
   "execution_count": 2,
   "metadata": {},
   "outputs": [],
   "source": [
    "data = fetch(1).split('\\n')"
   ]
  },
  {
   "cell_type": "markdown",
   "metadata": {},
   "source": [
    "## Part 1"
   ]
  },
  {
   "cell_type": "markdown",
   "metadata": {},
   "source": [
    "### Functions"
   ]
  },
  {
   "cell_type": "code",
   "execution_count": 11,
   "metadata": {},
   "outputs": [],
   "source": [
    "def getValue (string):\n",
    "    start = end = None\n",
    "    \n",
    "    for i in range(len(string)):\n",
    "        left = string[i]\n",
    "        right = string[-(i + 1)]\n",
    "\n",
    "        if not start and left.isdigit():\n",
    "            start = left\n",
    "        if not end and right.isdigit():\n",
    "            end = right\n",
    "\n",
    "        if start and end:\n",
    "            return int(start + end)\n",
    "\n",
    "    return 0\n",
    "\n",
    "def getArrValues(data):\n",
    "    return [getValue(line) for line in data]"
   ]
  },
  {
   "cell_type": "markdown",
   "metadata": {},
   "source": [
    "### Solution"
   ]
  },
  {
   "cell_type": "code",
   "execution_count": 5,
   "metadata": {},
   "outputs": [
    {
     "data": {
      "text/plain": [
       "54390"
      ]
     },
     "execution_count": 5,
     "metadata": {},
     "output_type": "execute_result"
    }
   ],
   "source": [
    "# Get part 1 answer with reduce on array of integers\n",
    "reduce(getArrValues(data))"
   ]
  },
  {
   "cell_type": "markdown",
   "metadata": {},
   "source": [
    "## Part 2"
   ]
  },
  {
   "cell_type": "markdown",
   "metadata": {},
   "source": [
    "### Functions"
   ]
  },
  {
   "cell_type": "code",
   "execution_count": 6,
   "metadata": {},
   "outputs": [],
   "source": [
    "def buildNumTree():\n",
    "    '''Builds a tree for checking spelled out numbers and returning the value if found'''\n",
    "    numbers = ['one', 'two', 'three', 'four', 'five', 'six', 'seven', 'eight', 'nine']\n",
    "\n",
    "    tree = {}\n",
    "\n",
    "    for i, num in enumerate(numbers):\n",
    "        obj = tree\n",
    "        c = None\n",
    "\n",
    "        for char in num:\n",
    "            obj = obj if not c else obj[c]\n",
    "\n",
    "            if not obj.get(char):\n",
    "                obj[char] = {}\n",
    "            c = char\n",
    "\n",
    "        obj[c] = str(i + 1)\n",
    "\n",
    "    return tree\n",
    "\n",
    "def convertSpelledNum(root, string, start_idx):\n",
    "    '''Run the check for spelled numbers with built tree based on an index'''\n",
    "    idx = start_idx\n",
    "    val = root\n",
    "\n",
    "    while type(val) == dict:\n",
    "        if idx == len(string): \n",
    "            return None\n",
    "        \n",
    "        char = string[idx]\n",
    "        val = val.get(char)\n",
    "        idx += 1\n",
    "\n",
    "    return val\n",
    "\n",
    "def getCalibrationValue(root, string):\n",
    "    '''Runs outer loop over string and returns the end values as calibration number'''\n",
    "    output = ''\n",
    "    idx = 0\n",
    "\n",
    "    while idx < len(string):\n",
    "        char = string[idx]\n",
    "\n",
    "        if char.isdigit():\n",
    "            output += char\n",
    "        else:\n",
    "            val = convertSpelledNum(root, string, idx)\n",
    "            if val:\n",
    "                output += val\n",
    "        \n",
    "        idx += 1\n",
    "        \n",
    "    return int(output[0] + output[-1])\n"
   ]
  },
  {
   "cell_type": "markdown",
   "metadata": {},
   "source": [
    "### Solution"
   ]
  },
  {
   "cell_type": "code",
   "execution_count": 9,
   "metadata": {},
   "outputs": [
    {
     "data": {
      "text/plain": [
       "54277"
      ]
     },
     "execution_count": 9,
     "metadata": {},
     "output_type": "execute_result"
    }
   ],
   "source": [
    "tree = buildNumTree()\n",
    "# Run reduce function to get sum of converted calibration values\n",
    "reduce([getCalibrationValue(tree, signal) for signal in data])"
   ]
  }
 ],
 "metadata": {
  "kernelspec": {
   "display_name": "Python 3",
   "language": "python",
   "name": "python3"
  },
  "language_info": {
   "codemirror_mode": {
    "name": "ipython",
    "version": 3
   },
   "file_extension": ".py",
   "mimetype": "text/x-python",
   "name": "python",
   "nbconvert_exporter": "python",
   "pygments_lexer": "ipython3",
   "version": "3.11.6"
  }
 },
 "nbformat": 4,
 "nbformat_minor": 2
}
