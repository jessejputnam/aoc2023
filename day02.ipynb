{
 "cells": [
  {
   "cell_type": "code",
   "execution_count": 1,
   "metadata": {},
   "outputs": [],
   "source": [
    "from lib.func import fetch, reduce"
   ]
  },
  {
   "cell_type": "code",
   "execution_count": 2,
   "metadata": {},
   "outputs": [],
   "source": [
    "data = fetch(2).split(\"\\n\")[:-1]"
   ]
  },
  {
   "cell_type": "markdown",
   "metadata": {},
   "source": [
    "## Structure Data"
   ]
  },
  {
   "cell_type": "code",
   "execution_count": 3,
   "metadata": {},
   "outputs": [],
   "source": [
    "def buildSubset(subset):\n",
    "    '''Split games into array of \"handfulls\" or subsets of random cubes (as dicts)'''\n",
    "    output = {}\n",
    "    arr = subset.split(\", \")\n",
    "    for item in arr:\n",
    "        items = item.split(\" \")\n",
    "        output[items[1]] = int(items[0])\n",
    "    return output\n",
    "\n",
    "def buildGames (data): \n",
    "    '''Split raw data into array of games'''\n",
    "    games = []\n",
    "\n",
    "    for row in data:\n",
    "        game = row.split(\": \")[1].split(\"; \")\n",
    "        games.append([buildSubset(x) for x in game])\n",
    "\n",
    "    return games"
   ]
  },
  {
   "cell_type": "markdown",
   "metadata": {},
   "source": [
    "## Part 1"
   ]
  },
  {
   "cell_type": "markdown",
   "metadata": {},
   "source": [
    "### Functions"
   ]
  },
  {
   "cell_type": "code",
   "execution_count": 5,
   "metadata": {},
   "outputs": [],
   "source": [
    "def isSubsetPossible(subset):\n",
    "    '''Check handfull of cubes against given subset'''\n",
    "    check = { \"red\": 12, \"green\": 13, \"blue\": 14 }\n",
    "\n",
    "    red = subset.get(\"red\")\n",
    "    green = subset.get(\"green\")\n",
    "    blue = subset.get(\"blue\")\n",
    "\n",
    "    if red and red > check['red']:\n",
    "        return False\n",
    "    if green and green > check['green']:\n",
    "        return False\n",
    "    if blue and blue > check['blue']:\n",
    "        return False\n",
    "\n",
    "    return True\n",
    "\n",
    "def getSumPossibleGameIDs(data):\n",
    "    '''Get the sum of all game IDs that are possible according to the given check'''\n",
    "    games = buildGames(data)\n",
    "    possible_games = []\n",
    "\n",
    "    for i, game in enumerate(games):\n",
    "        gameIsValid = True\n",
    "        for subset in game:\n",
    "            if not isSubsetPossible(subset):\n",
    "                gameIsValid = False\n",
    "                break\n",
    "        if gameIsValid:\n",
    "            possible_games.append(i + 1)\n",
    "    \n",
    "    return reduce(possible_games)\n"
   ]
  },
  {
   "cell_type": "markdown",
   "metadata": {},
   "source": [
    "### Solution"
   ]
  },
  {
   "cell_type": "code",
   "execution_count": 7,
   "metadata": {},
   "outputs": [
    {
     "data": {
      "text/plain": [
       "2377"
      ]
     },
     "execution_count": 7,
     "metadata": {},
     "output_type": "execute_result"
    }
   ],
   "source": [
    "getSumPossibleGameIDs(data)"
   ]
  },
  {
   "cell_type": "markdown",
   "metadata": {},
   "source": [
    "## Part 2"
   ]
  },
  {
   "cell_type": "markdown",
   "metadata": {},
   "source": [
    "### Functions"
   ]
  },
  {
   "cell_type": "code",
   "execution_count": 8,
   "metadata": {},
   "outputs": [],
   "source": [
    "def updateMinSet(min_set, subset):\n",
    "    '''Update the minimum set of cubes required against the current given subset'''\n",
    "    red = subset.get(\"red\")\n",
    "    green = subset.get(\"green\")\n",
    "    blue = subset.get(\"blue\")\n",
    "\n",
    "    if red: \n",
    "        min_set['red'] = max(min_set['red'], red)\n",
    "    if green: \n",
    "        min_set['green'] = max(min_set['green'], green)\n",
    "    if blue: \n",
    "        min_set['blue'] = max(min_set['blue'], blue)\n",
    "\n",
    "def getGameMinSet(game):\n",
    "    '''Get the minimum set of cubes possible for a given game'''\n",
    "    min_set = { \"red\": 0, \"green\": 0, \"blue\": 0 }\n",
    "    for subset in game:\n",
    "        updateMinSet(min_set, subset)\n",
    "\n",
    "    return min_set\n",
    "\n",
    "def getMinSetPower(min_set):\n",
    "    '''Get the Power for the minimum set of cubes'''\n",
    "    return min_set['red'] * min_set['green'] * min_set['blue']\n",
    "\n",
    "def getSumGamePowers(data): \n",
    "    '''Get the sum of all powers for each game's minimum set'''\n",
    "    game_power = []\n",
    "\n",
    "    games = buildGames(data)\n",
    "    \n",
    "    for game in games:\n",
    "        min_set = getGameMinSet(game)\n",
    "        power = getMinSetPower(min_set)\n",
    "        game_power.append(power)\n",
    "\n",
    "    return reduce(game_power)"
   ]
  },
  {
   "cell_type": "markdown",
   "metadata": {},
   "source": [
    "### Solution"
   ]
  },
  {
   "cell_type": "code",
   "execution_count": 12,
   "metadata": {},
   "outputs": [
    {
     "data": {
      "text/plain": [
       "71220"
      ]
     },
     "execution_count": 12,
     "metadata": {},
     "output_type": "execute_result"
    }
   ],
   "source": [
    "getSumGamePowers(data)"
   ]
  }
 ],
 "metadata": {
  "kernelspec": {
   "display_name": "Python 3",
   "language": "python",
   "name": "python3"
  },
  "language_info": {
   "codemirror_mode": {
    "name": "ipython",
    "version": 3
   },
   "file_extension": ".py",
   "mimetype": "text/x-python",
   "name": "python",
   "nbconvert_exporter": "python",
   "pygments_lexer": "ipython3",
   "version": "3.11.6"
  }
 },
 "nbformat": 4,
 "nbformat_minor": 2
}
