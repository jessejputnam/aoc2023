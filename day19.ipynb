{
 "cells": [
  {
   "cell_type": "code",
   "execution_count": 1,
   "metadata": {},
   "outputs": [],
   "source": [
    "from lib.func import fetch"
   ]
  },
  {
   "cell_type": "markdown",
   "metadata": {},
   "source": [
    "### Prepare Data"
   ]
  },
  {
   "cell_type": "code",
   "execution_count": 2,
   "metadata": {},
   "outputs": [],
   "source": [
    "# Split workflow into it's name and it's rules\n",
    "def splitNameAndRules(row):\n",
    "    name, rules = row.split('{')\n",
    "    return [name, rules[:-1].split(',')]\n",
    "\n",
    "\n",
    "# Build string rule into object rule\n",
    "def buildRule(rule):\n",
    "    idx = rule.find(':')\n",
    "    final = (idx == -1)\n",
    "    obj = {\n",
    "        'category': None if final else rule[0],\n",
    "        'op': '=' if final else rule[1],\n",
    "        'num': None if final else int(rule[2:idx]),\n",
    "        'next': rule if final else rule[idx + 1:]\n",
    "    }\n",
    "    return obj\n",
    "\n",
    "\n",
    "# Build object workflows from string representation\n",
    "def buildWorkflows(workflows):\n",
    "    output = {}\n",
    "    for row in workflows:\n",
    "        name, rules = splitNameAndRules(row)\n",
    "        output.setdefault(name, [])\n",
    "        for rule in rules:\n",
    "            output[name].append(buildRule(rule))\n",
    "\n",
    "    return output\n",
    "\n",
    "\n",
    "# Build individual part object from string\n",
    "def buildPart(part):\n",
    "    obj = {}\n",
    "    items = part[1:-1].split(',')\n",
    "    for item in items:\n",
    "        key, val = item.split('=')\n",
    "        obj.setdefault(key, int(val))\n",
    "    return obj\n",
    "\n",
    "\n",
    "# Build parts and put into array\n",
    "def buildParts(parts):\n",
    "    output = []\n",
    "    for part in parts:\n",
    "        obj = buildPart(part)\n",
    "        output.append(obj)\n",
    "    return output\n",
    "\n",
    "\n",
    "# Convert string input into useful objects\n",
    "def buildData(data):\n",
    "    workflows, parts = [x.split('\\n') for x in data.split('\\n\\n')]\n",
    "    return [buildWorkflows(workflows), buildParts(parts)]"
   ]
  },
  {
   "cell_type": "code",
   "execution_count": 3,
   "metadata": {},
   "outputs": [],
   "source": [
    "data = '''px{a<2006:qkq,m>2090:A,rfg}\n",
    "pv{a>1716:R,A}\n",
    "lnx{m>1548:A,A}\n",
    "rfg{s<537:gd,x>2440:R,A}\n",
    "qs{s>3448:A,lnx}\n",
    "qkq{x<1416:A,crn}\n",
    "crn{x>2662:A,R}\n",
    "in{s<1351:px,qqz}\n",
    "qqz{s>2770:qs,m<1801:hdj,R}\n",
    "gd{a>3333:R,R}\n",
    "hdj{m>838:A,pv}\n",
    "\n",
    "{x=787,m=2655,a=1222,s=2876}\n",
    "{x=1679,m=44,a=2067,s=496}\n",
    "{x=2036,m=264,a=79,s=2244}\n",
    "{x=2461,m=1339,a=466,s=291}\n",
    "{x=2127,m=1623,a=2188,s=1013}'''"
   ]
  },
  {
   "cell_type": "code",
   "execution_count": 4,
   "metadata": {},
   "outputs": [],
   "source": [
    "data = fetch(19)"
   ]
  },
  {
   "cell_type": "markdown",
   "metadata": {},
   "source": [
    "### Functions"
   ]
  },
  {
   "cell_type": "code",
   "execution_count": 5,
   "metadata": {},
   "outputs": [],
   "source": [
    "# Run workflow with part to get next workflow name\n",
    "def getNextFlowName(flow, part):\n",
    "    for i in range(len(flow) - 1):\n",
    "        rule = flow[i]\n",
    "        cat_val = part[rule['category']]\n",
    "\n",
    "        if rule['op'] == '>':\n",
    "            if cat_val > rule['num']:\n",
    "                return rule['next']\n",
    "        else:\n",
    "            if cat_val < rule['num']:\n",
    "                return rule['next']\n",
    "    return flow[-1]['next']\n",
    "\n",
    "\n",
    "# Sum all remaining part category ratings\n",
    "def getPartRatingsSum(accepted):\n",
    "    total = 0\n",
    "    for part in accepted:\n",
    "        total += part['x'] + part['m'] + part['a'] + part['s']\n",
    "    return total\n"
   ]
  },
  {
   "cell_type": "markdown",
   "metadata": {},
   "source": [
    "### Solution"
   ]
  },
  {
   "cell_type": "code",
   "execution_count": 6,
   "metadata": {},
   "outputs": [],
   "source": [
    "def solve(data):\n",
    "    workflows, parts = buildData(data)\n",
    "    accepted = []\n",
    "    for part in parts:\n",
    "        name = 'in'\n",
    "        while name not in 'AR':\n",
    "            flow = workflows[name]\n",
    "            name = getNextFlowName(flow, part)\n",
    "        \n",
    "        if name == 'A':\n",
    "            accepted.append(part)\n",
    "                \n",
    "    return getPartRatingsSum(accepted)\n"
   ]
  },
  {
   "cell_type": "code",
   "execution_count": 7,
   "metadata": {},
   "outputs": [
    {
     "name": "stdout",
     "output_type": "stream",
     "text": [
      "Part 1: 332145\n"
     ]
    }
   ],
   "source": [
    "print(f'Part 1: {solve(data)}')"
   ]
  }
 ],
 "metadata": {
  "kernelspec": {
   "display_name": "Python 3",
   "language": "python",
   "name": "python3"
  },
  "language_info": {
   "codemirror_mode": {
    "name": "ipython",
    "version": 3
   },
   "file_extension": ".py",
   "mimetype": "text/x-python",
   "name": "python",
   "nbconvert_exporter": "python",
   "pygments_lexer": "ipython3",
   "version": "3.11.6"
  }
 },
 "nbformat": 4,
 "nbformat_minor": 2
}
