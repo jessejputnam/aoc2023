{
 "cells": [
  {
   "cell_type": "code",
   "execution_count": 2,
   "metadata": {},
   "outputs": [],
   "source": [
    "import numpy as np\n",
    "from lib.func import fetch"
   ]
  },
  {
   "cell_type": "code",
   "execution_count": 3,
   "metadata": {},
   "outputs": [],
   "source": [
    "data = '''.|...\\....\n",
    "|.-.\\.....\n",
    ".....|-...\n",
    "........|.\n",
    "..........\n",
    ".........\\\\\n",
    "..../.\\\\\\..\n",
    ".-.-/..|..\n",
    ".|....-|.\\\\\n",
    "..//.|....'''.split('\\n')\n"
   ]
  },
  {
   "cell_type": "code",
   "execution_count": 115,
   "metadata": {},
   "outputs": [
    {
     "data": {
      "text/plain": [
       "True"
      ]
     },
     "execution_count": 115,
     "metadata": {},
     "output_type": "execute_result"
    }
   ],
   "source": [
    "data = fetch(16).split('\\n')"
   ]
  },
  {
   "cell_type": "markdown",
   "metadata": {},
   "source": [
    "### Functions"
   ]
  },
  {
   "cell_type": "code",
   "execution_count": 33,
   "metadata": {},
   "outputs": [],
   "source": [
    "def getNewCoord(beam):\n",
    "    return list(np.add(beam['coord'], beam['dir']))\n",
    "\n",
    "\n",
    "def buildBeam(x, y, coord):\n",
    "    return { 'dir': [x, y], 'coord': [coord[0], coord[1]]  }\n",
    "\n",
    "\n",
    "def isValidRange(coord, n):\n",
    "    if coord[0] < 0 or coord[1] < 0:\n",
    "        return False\n",
    "    if coord[0] == n or coord[1] == n:\n",
    "        return False\n",
    "    return True\n",
    "\n",
    "\n",
    "def isLit(lit, coord):\n",
    "    return lit.get(coord[0]).get(coord[1]) if lit.get(coord[0]) else None\n",
    "\n",
    "\n",
    "def handlePipe(beams, coord):\n",
    "    if coord[1]:\n",
    "        beams.append(buildBeam(1, 0, coord))\n",
    "        beams.append(buildBeam(-1, 0, coord))\n",
    "        return False\n",
    "    return True\n",
    "\n",
    "\n",
    "def handleDash(beams, coord):\n",
    "    if coord[0]:\n",
    "        beams.append(buildBeam(0, 1, coord))\n",
    "        beams.append(buildBeam(0, -1, coord))\n",
    "        return False\n",
    "    return True\n",
    "\n",
    "\n",
    "def handleBackSlash(beam):\n",
    "    beam['dir'] = [beam['dir'][1], beam['dir'][0]]\n",
    "    return True\n",
    "\n",
    "\n",
    "def handleFwdSlash(beam):\n",
    "    beam['dir'] = [-beam['dir'][1], -beam['dir'][0]]\n",
    "    return True\n",
    "\n",
    "def determineBeamPath(beams, beam, coord, cell, wasLit):\n",
    "    if cell == '|':\n",
    "        if wasLit:\n",
    "            return False\n",
    "        return handlePipe(beams, coord)\n",
    "\n",
    "    if cell == '-':\n",
    "        if wasLit:\n",
    "            return False\n",
    "        return handleDash(beams, coord)\n",
    "\n",
    "    if cell == '\\\\':\n",
    "        return handleBackSlash(beam)\n",
    "\n",
    "    if cell == '/':\n",
    "        return handleFwdSlash(beam)\n",
    "    \n",
    "    beam['coord'] = getNewCoord(beam)\n",
    "    return True\n",
    "    \n",
    "\n",
    "def moveBeam(beams, beam, lit, n):\n",
    "    # Get next coordinate for beam\n",
    "    [x, y] = getNewCoord(beam)\n",
    "\n",
    "    # Check for invalid range\n",
    "    if not isValidRange([x, y], n):\n",
    "        # print(f'  --  -- Invalid Range')\n",
    "        return False\n",
    "    \n",
    "    # If not lit, light coord\n",
    "    wasLit = isLit(lit, [x, y])\n",
    "    if not wasLit:\n",
    "        if not lit.get(x):\n",
    "            lit[x] = {}\n",
    "        lit[x][y] = True\n",
    "\n",
    "    # determine next steps based on cell\n",
    "    cell = data[x][y]\n",
    "    # print(f'  -- Coord: {[x, y]}')\n",
    "    # print(f'  -- Cell: {cell}')\n",
    "    # print(f'  -- WasLit: {wasLit}')\n",
    "    # print(f'  -- Lit: {lit}')\n",
    "\n",
    "    return determineBeamPath(beams, beam, [x, y], cell, wasLit)\n"
   ]
  },
  {
   "cell_type": "markdown",
   "metadata": {},
   "source": [
    "### Solution"
   ]
  },
  {
   "cell_type": "code",
   "execution_count": 34,
   "metadata": {},
   "outputs": [
    {
     "name": "stdout",
     "output_type": "stream",
     "text": [
      "{0: {0: True}}\n",
      "{0: {0: True, 1: True}}\n",
      "{0: {0: True, 1: True}}\n",
      "{0: {0: True, 1: True}, 1: {1: True}, 2: {1: True}, 3: {1: True}, 4: {1: True}, 5: {1: True}, 6: {1: True}, 7: {1: True}}\n",
      "{0: {0: True, 1: True}, 1: {1: True}, 2: {1: True}, 3: {1: True}, 4: {1: True}, 5: {1: True}, 6: {1: True}, 7: {1: True, 0: True}}\n",
      "{0: {0: True, 1: True}, 1: {1: True}, 2: {1: True}, 3: {1: True}, 4: {1: True}, 5: {1: True}, 6: {1: True}, 7: {1: True, 0: True, 2: True, 3: True}}\n",
      "{0: {0: True, 1: True}, 1: {1: True}, 2: {1: True}, 3: {1: True}, 4: {1: True}, 5: {1: True}, 6: {1: True}, 7: {1: True, 0: True, 2: True, 3: True}}\n"
     ]
    },
    {
     "data": {
      "text/plain": [
       "{0: {0: True, 1: True, 3: True},\n",
       " 1: {1: True, 3: True},\n",
       " 2: {1: True, 3: True},\n",
       " 3: {1: True, 3: True},\n",
       " 4: {1: True, 3: True},\n",
       " 5: {1: True, 3: True},\n",
       " 6: {1: True, 3: True},\n",
       " 7: {1: True, 0: True, 2: True, 3: True, 4: True}}"
      ]
     },
     "execution_count": 34,
     "metadata": {},
     "output_type": "execute_result"
    }
   ],
   "source": [
    "def solve(data):\n",
    "    n = len(data)\n",
    "    # count = 0\n",
    "\n",
    "    # Create array to hold all beams\n",
    "    beams = [{ 'dir': [0, 1], 'coord': [0, 0] }]\n",
    "    lit = { 0: { 0: True } }\n",
    "    \n",
    "    while len(beams):\n",
    "        # count += 1\n",
    "        # if count == 20:\n",
    "        #     return lit\n",
    "        # print(f'Beams: {beams}')\n",
    "        # Pop beam from list\n",
    "        b = beams.pop()\n",
    "\n",
    "        valid = True\n",
    "        # count2 = 0\n",
    "        print(lit)\n",
    "        while valid:\n",
    "            # count2 += 1\n",
    "            # if count2 == 30:\n",
    "            #     return lit\n",
    "            # print('MOVE BEAM ---')\n",
    "            valid = moveBeam(beams, b, lit, n)\n",
    "\n",
    "    return lit\n",
    "\n",
    "\n",
    "solve(data)"
   ]
  },
  {
   "cell_type": "code",
   "execution_count": 105,
   "metadata": {},
   "outputs": [],
   "source": [
    "test = { 'dir': [1, 0] }"
   ]
  },
  {
   "cell_type": "code",
   "execution_count": 107,
   "metadata": {},
   "outputs": [
    {
     "data": {
      "text/plain": [
       "{'dir': [0, 1]}"
      ]
     },
     "execution_count": 107,
     "metadata": {},
     "output_type": "execute_result"
    }
   ],
   "source": [
    "test['dir'] = [test['dir'][1], test['dir'][0]]\n",
    "test"
   ]
  },
  {
   "cell_type": "code",
   "execution_count": null,
   "metadata": {},
   "outputs": [],
   "source": [
    "{'0': {'0': True},\n",
    " 0: {1: True},\n",
    " 1: {1: True},\n",
    " 2: {1: True},\n",
    " 3: {1: True},\n",
    " 4: {1: True},\n",
    " 5: {1: True},\n",
    " 6: {1: True},\n",
    " 7: {1: True}}"
   ]
  }
 ],
 "metadata": {
  "kernelspec": {
   "display_name": "Python 3",
   "language": "python",
   "name": "python3"
  },
  "language_info": {
   "codemirror_mode": {
    "name": "ipython",
    "version": 3
   },
   "file_extension": ".py",
   "mimetype": "text/x-python",
   "name": "python",
   "nbconvert_exporter": "python",
   "pygments_lexer": "ipython3",
   "version": "3.11.6"
  }
 },
 "nbformat": 4,
 "nbformat_minor": 2
}
