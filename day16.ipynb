{
 "cells": [
  {
   "cell_type": "code",
   "execution_count": 1,
   "metadata": {},
   "outputs": [],
   "source": [
    "import numpy as np\n",
    "from lib.func import fetch"
   ]
  },
  {
   "cell_type": "code",
   "execution_count": null,
   "metadata": {},
   "outputs": [],
   "source": [
    "data = '''.|...\\....\n",
    "|.-.\\.....\n",
    ".....|-...\n",
    "........|.\n",
    "..........\n",
    ".........\\\\\n",
    "..../.\\\\\\..\n",
    ".-.-/..|..\n",
    ".|....-|.\\\\\n",
    "..//.|....'''.split('\\n')\n"
   ]
  },
  {
   "cell_type": "code",
   "execution_count": 2,
   "metadata": {},
   "outputs": [],
   "source": [
    "data = fetch(16).split('\\n')"
   ]
  },
  {
   "cell_type": "markdown",
   "metadata": {},
   "source": [
    "### Functions"
   ]
  },
  {
   "cell_type": "code",
   "execution_count": 3,
   "metadata": {},
   "outputs": [],
   "source": [
    "# Update coordinate with direction\n",
    "def getNewCoord(beam):\n",
    "    return list(np.add(beam['coord'], beam['dir']))\n",
    "\n",
    "\n",
    "# Build new beam from directions and coordinate\n",
    "def buildBeam(x, y, coord):\n",
    "    return { 'dir': [x, y], 'coord': [coord[0], coord[1]]  }\n",
    "\n",
    "\n",
    "# Check if new coordinate is within valid range of matrix\n",
    "def isValidRange(coord, n):\n",
    "    if coord[0] < 0 or coord[1] < 0:\n",
    "        return False\n",
    "    if coord[0] == n or coord[1] == n:\n",
    "        return False\n",
    "    return True\n",
    "\n",
    "\n",
    "# Check if coordinate has been energized or 'lit' yet\n",
    "def isLit(lit, coord):\n",
    "    return lit.get(coord[0]).get(coord[1]) if lit.get(coord[0]) else None\n",
    "\n",
    "\n",
    "# Split beam into two diverging vertical lines, return false to signify invalid old beam\n",
    "def splitBeamVertical(beams, coord):\n",
    "    beams.append(buildBeam(1, 0, coord))\n",
    "    beams.append(buildBeam(-1, 0, coord))\n",
    "    return False\n",
    "\n",
    "\n",
    "# Split beam into two diverging horizontal lines, return false to signify invalid old beam\n",
    "def splitBeamHorizontal(beams, coord):\n",
    "    beams.append(buildBeam(0, 1, coord))\n",
    "    beams.append(buildBeam(0, -1, coord))\n",
    "    return False\n",
    "\n",
    "\n",
    "# Convert direction for back slash with inverse\n",
    "def convertDirBackSlash(beam):\n",
    "    beam['dir'] = [beam['dir'][1], beam['dir'][0]]\n",
    "\n",
    "\n",
    "# Convert direction for foreward slash with negative inverse\n",
    "def convertDirFwdSlash(beam):\n",
    "    beam['dir'] = [-beam['dir'][1], -beam['dir'][0]]\n",
    "\n",
    "\n",
    "# Handle encountering slash\n",
    "def handleSlash(beam, cell):\n",
    "    if cell == '\\\\':\n",
    "        convertDirBackSlash(beam)\n",
    "    if cell == '/':\n",
    "        convertDirFwdSlash(beam)\n",
    "\n",
    "\n",
    "# Determine how beam moves based on new cell, return validity of current beam\n",
    "def updateBeam(beams, beam, coord, cell, wasLit):\n",
    "    # If it approaches from horizontal\n",
    "    if cell == '|' and beam['dir'][1]:\n",
    "        if wasLit:\n",
    "            return False\n",
    "        return splitBeamVertical(beams, coord)\n",
    "\n",
    "    # If it approaches from vertical\n",
    "    if cell == '-' and beam['dir'][0]:\n",
    "        if wasLit:\n",
    "            return False\n",
    "        return splitBeamHorizontal(beams, coord)\n",
    "\n",
    "    # Set new coordinate\n",
    "    beam['coord'] = coord\n",
    "    \n",
    "    # Convert direction if slash\n",
    "    handleSlash(beam, cell)\n",
    "    return True\n",
    "    \n",
    "\n",
    "def moveBeam(data, beams, beam, lit):\n",
    "    n = len(data)\n",
    "\n",
    "    # Get next coordinate for beam\n",
    "    [x, y] = getNewCoord(beam)\n",
    "\n",
    "    # Check next coordinate for invalid range\n",
    "    if not isValidRange([x, y], n):\n",
    "        return False\n",
    "    \n",
    "    # If not lit, light next coord\n",
    "    wasLit = isLit(lit, [x, y])\n",
    "    if not wasLit:\n",
    "        if not lit.get(x):\n",
    "            lit.setdefault(x, {})\n",
    "        lit.get(x).setdefault(y, True)\n",
    "\n",
    "    cell = data[x][y]\n",
    "    # Update beam with next coordinate\n",
    "    return updateBeam(beams, beam, [x, y], cell, wasLit)\n"
   ]
  },
  {
   "cell_type": "markdown",
   "metadata": {},
   "source": [
    "### Solution"
   ]
  },
  {
   "cell_type": "code",
   "execution_count": 4,
   "metadata": {},
   "outputs": [],
   "source": [
    "# Get energized count by direction and starting coordinate\n",
    "def getTotalEnergizedCount(data, d, c):\n",
    "    # Create array to hold all beams\n",
    "    beams = [{ 'dir': [d[0], d[1]], 'coord': [c[0], c[1]] }]\n",
    "    lit = {}\n",
    "    \n",
    "    while len(beams):\n",
    "        # Pop beam from list\n",
    "        b = beams.pop()\n",
    "\n",
    "        valid = True\n",
    "        # While beam remains valid, move beam\n",
    "        while valid:\n",
    "            valid = moveBeam(data, beams, b, lit)\n",
    "            \n",
    "    # Sum up lengths of each lit row\n",
    "    total = 0\n",
    "    for key in lit:\n",
    "        total += len(lit.get(key))\n",
    "    return total"
   ]
  },
  {
   "cell_type": "code",
   "execution_count": 5,
   "metadata": {},
   "outputs": [],
   "source": [
    "def solvePart2(data):\n",
    "    n = len(data)\n",
    "    most_lit = 0\n",
    "\n",
    "    for i in range(n):\n",
    "        vals = [\n",
    "            most_lit,\n",
    "            getTotalEnergizedCount(data, [1, 0], [-1, i]),\n",
    "            getTotalEnergizedCount(data, [0, 1], [i, -1]),\n",
    "            getTotalEnergizedCount(data, [-1, 0], [n, i]),\n",
    "            getTotalEnergizedCount(data, [0, -1], [i, n])\n",
    "        ]\n",
    "        most_lit = max(vals)\n",
    "        \n",
    "    return most_lit\n",
    "\n"
   ]
  },
  {
   "cell_type": "code",
   "execution_count": 7,
   "metadata": {},
   "outputs": [
    {
     "name": "stdout",
     "output_type": "stream",
     "text": [
      "Part 1: 7608\n",
      "Part 2: 8221\n"
     ]
    }
   ],
   "source": [
    "print(f'Part 1: {getTotalEnergizedCount(data, [0, 1], [0, -1])}')\n",
    "print(f'Part 2: {solvePart2(data)}')"
   ]
  }
 ],
 "metadata": {
  "kernelspec": {
   "display_name": "Python 3",
   "language": "python",
   "name": "python3"
  },
  "language_info": {
   "codemirror_mode": {
    "name": "ipython",
    "version": 3
   },
   "file_extension": ".py",
   "mimetype": "text/x-python",
   "name": "python",
   "nbconvert_exporter": "python",
   "pygments_lexer": "ipython3",
   "version": "3.11.6"
  }
 },
 "nbformat": 4,
 "nbformat_minor": 2
}
