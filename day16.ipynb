{
 "cells": [
  {
   "cell_type": "code",
   "execution_count": 1,
   "metadata": {},
   "outputs": [],
   "source": [
    "import numpy as np\n",
    "from lib.func import fetch"
   ]
  },
  {
   "cell_type": "code",
   "execution_count": 2,
   "metadata": {},
   "outputs": [],
   "source": [
    "data = '''.|...\\....\n",
    "|.-.\\.....\n",
    ".....|-...\n",
    "........|.\n",
    "..........\n",
    ".........\\\\\n",
    "..../.\\\\\\..\n",
    ".-.-/..|..\n",
    ".|....-|.\\\\\n",
    "..//.|....'''.split('\\n')\n"
   ]
  },
  {
   "cell_type": "code",
   "execution_count": 8,
   "metadata": {},
   "outputs": [],
   "source": [
    "data = fetch(16).split('\\n')"
   ]
  },
  {
   "cell_type": "markdown",
   "metadata": {},
   "source": [
    "### Functions"
   ]
  },
  {
   "cell_type": "code",
   "execution_count": 14,
   "metadata": {},
   "outputs": [],
   "source": [
    "# Update coordinate with direction\n",
    "def getNewCoord(beam):\n",
    "    return list(np.add(beam['coord'], beam['dir']))\n",
    "\n",
    "\n",
    "# Build new beam from directions and coordinate\n",
    "def buildBeam(x, y, coord):\n",
    "    return { 'dir': [x, y], 'coord': [coord[0], coord[1]]  }\n",
    "\n",
    "\n",
    "# Check if new coordinate is within valid range of matrix\n",
    "def isValidRange(coord, n):\n",
    "    if coord[0] < 0 or coord[1] < 0:\n",
    "        return False\n",
    "    if coord[0] == n or coord[1] == n:\n",
    "        return False\n",
    "    return True\n",
    "\n",
    "\n",
    "# Check if coordinate has been energized or 'lit' yet\n",
    "def isLit(lit, coord):\n",
    "    return lit.get(coord[0]).get(coord[1]) if lit.get(coord[0]) else None\n",
    "\n",
    "\n",
    "# Split beam into two diverging vertical lines, return false to signify invalid old beam\n",
    "def splitBeamVertical(beams, coord):\n",
    "    beams.append(buildBeam(1, 0, coord))\n",
    "    beams.append(buildBeam(-1, 0, coord))\n",
    "    return False\n",
    "\n",
    "\n",
    "# Split beam into two diverging horizontal lines, return false to signify invalid old beam\n",
    "def splitBeamHorizontal(beams, coord):\n",
    "    beams.append(buildBeam(0, 1, coord))\n",
    "    beams.append(buildBeam(0, -1, coord))\n",
    "    return False\n",
    "\n",
    "\n",
    "# Convert direction for back slash with inverse\n",
    "def convertDirBackSlash(beam):\n",
    "    beam['dir'] = [beam['dir'][1], beam['dir'][0]]\n",
    "\n",
    "\n",
    "# Convert direction for foreward slash with negative inverse\n",
    "def convertDirFwdSlash(beam):\n",
    "    beam['dir'] = [-beam['dir'][1], -beam['dir'][0]]\n",
    "\n",
    "\n",
    "# Handle encountering slash\n",
    "def handleSlash(beam, cell):\n",
    "    if cell == '\\\\':\n",
    "        convertDirBackSlash(beam)\n",
    "    if cell == '/':\n",
    "        convertDirFwdSlash(beam)\n",
    "\n",
    "\n",
    "# Determine how beam moves based on new cell, return validity of current beam\n",
    "def updateBeam(beams, beam, coord, cell, wasLit):\n",
    "    # If it approaches from horizontal\n",
    "    if cell == '|' and beam['dir'][1]:\n",
    "        if wasLit:\n",
    "            return False\n",
    "        return splitBeamVertical(beams, coord)\n",
    "\n",
    "    # If it approaches from vertical\n",
    "    if cell == '-' and beam['dir'][0]:\n",
    "        if wasLit:\n",
    "            return False\n",
    "        return splitBeamHorizontal(beams, coord)\n",
    "\n",
    "    # Set new coordinate\n",
    "    beam['coord'] = coord\n",
    "    \n",
    "    # Convert direction if slash\n",
    "    handleSlash(beam, cell)\n",
    "    return True\n",
    "    \n",
    "\n",
    "def moveBeam(data, beams, beam, lit):\n",
    "    n = len(data)\n",
    "\n",
    "    # Get next coordinate for beam\n",
    "    [x, y] = getNewCoord(beam)\n",
    "\n",
    "    # Check next coordinate for invalid range\n",
    "    if not isValidRange([x, y], n):\n",
    "        return False\n",
    "    \n",
    "    # If not lit, light next coord\n",
    "    wasLit = isLit(lit, [x, y])\n",
    "    if not wasLit:\n",
    "        if not lit.get(x):\n",
    "            lit.setdefault(x, {})\n",
    "        lit.get(x).setdefault(y, True)\n",
    "\n",
    "    cell = data[x][y]\n",
    "    # Update beam with next coordinate\n",
    "    return updateBeam(beams, beam, [x, y], cell, wasLit)\n"
   ]
  },
  {
   "cell_type": "markdown",
   "metadata": {},
   "source": [
    "### Solution"
   ]
  },
  {
   "cell_type": "code",
   "execution_count": 15,
   "metadata": {},
   "outputs": [
    {
     "data": {
      "text/plain": [
       "7608"
      ]
     },
     "execution_count": 15,
     "metadata": {},
     "output_type": "execute_result"
    }
   ],
   "source": [
    "def solve(data):\n",
    "    # Create array to hold all beams\n",
    "    beams = [{ 'dir': [0, 1], 'coord': [0, -1] }]\n",
    "    lit = { 0: { 0: True } }\n",
    "    \n",
    "    while len(beams):\n",
    "        # Pop beam from list\n",
    "        b = beams.pop()\n",
    "\n",
    "        valid = True\n",
    "        # While beam remains valid, move beam\n",
    "        while valid:\n",
    "            valid = moveBeam(data, beams, b, lit)\n",
    "            \n",
    "    # Sum up lengths of each lit row\n",
    "    total = 0\n",
    "    for key in lit:\n",
    "        total += len(lit.get(key))\n",
    "        \n",
    "    return total\n",
    "\n",
    "\n",
    "solve(data)"
   ]
  }
 ],
 "metadata": {
  "kernelspec": {
   "display_name": "Python 3",
   "language": "python",
   "name": "python3"
  },
  "language_info": {
   "codemirror_mode": {
    "name": "ipython",
    "version": 3
   },
   "file_extension": ".py",
   "mimetype": "text/x-python",
   "name": "python",
   "nbconvert_exporter": "python",
   "pygments_lexer": "ipython3",
   "version": "3.11.6"
  }
 },
 "nbformat": 4,
 "nbformat_minor": 2
}
