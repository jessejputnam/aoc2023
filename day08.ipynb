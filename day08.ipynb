{
 "cells": [
  {
   "cell_type": "code",
   "execution_count": 13,
   "metadata": {},
   "outputs": [],
   "source": [
    "from lib.func import fetch, lcm"
   ]
  },
  {
   "cell_type": "code",
   "execution_count": 14,
   "metadata": {},
   "outputs": [],
   "source": [
    "data = fetch(8)"
   ]
  },
  {
   "cell_type": "code",
   "execution_count": 15,
   "metadata": {},
   "outputs": [],
   "source": [
    "def buildInstructions(data):\n",
    "    pattern, network_raw = data.split(\"\\n\\n\")\n",
    "    network = {}\n",
    "    for row in network_raw.split(\"\\n\"):\n",
    "        key, val = row.split(\" = \")\n",
    "        network[key] = { \"L\": val[1:-1].split(\", \")[0], \"R\": val[1:-1].split(\", \")[1] }\n",
    "    return [pattern, network]\n",
    "\n",
    "def updateNode(current, direction, network):\n",
    "    return network[current][direction]\n",
    "\n",
    "def updateIndex(pattern, idx):\n",
    "    return 0 if (idx == len(pattern) - 1) else (idx + 1)"
   ]
  },
  {
   "cell_type": "markdown",
   "metadata": {},
   "source": [
    "## Part 1"
   ]
  },
  {
   "cell_type": "markdown",
   "metadata": {},
   "source": [
    "### Functions"
   ]
  },
  {
   "cell_type": "code",
   "execution_count": 16,
   "metadata": {},
   "outputs": [],
   "source": [
    "def isEndNode(node):\n",
    "    return node == 'ZZZ'"
   ]
  },
  {
   "cell_type": "markdown",
   "metadata": {},
   "source": [
    "### Solution"
   ]
  },
  {
   "cell_type": "code",
   "execution_count": 17,
   "metadata": {},
   "outputs": [],
   "source": [
    "def solvePart1(data):\n",
    "    pattern, net = buildInstructions(data)\n",
    "\n",
    "    count = idx = 0\n",
    "    cur = 'AAA'\n",
    "\n",
    "    while not isEndNode(cur):\n",
    "        cur = updateNode(cur, pattern[idx], net)\n",
    "        count += 1\n",
    "        idx = updateIndex(pattern, idx)\n",
    "\n",
    "    return count\n",
    "    "
   ]
  },
  {
   "cell_type": "code",
   "execution_count": 18,
   "metadata": {},
   "outputs": [
    {
     "data": {
      "text/plain": [
       "14681"
      ]
     },
     "execution_count": 18,
     "metadata": {},
     "output_type": "execute_result"
    }
   ],
   "source": [
    "solvePart1(data)"
   ]
  },
  {
   "cell_type": "markdown",
   "metadata": {},
   "source": [
    "## Part 2"
   ]
  },
  {
   "cell_type": "markdown",
   "metadata": {},
   "source": [
    "### Functions"
   ]
  },
  {
   "cell_type": "code",
   "execution_count": 19,
   "metadata": {},
   "outputs": [],
   "source": [
    "def getStartingNodes(network):\n",
    "    nodes = []\n",
    "    for key in network.keys():\n",
    "        if key[-1] == 'A':\n",
    "            nodes.append(key)    \n",
    "    return nodes\n",
    "\n",
    "def endsWithZ(node):\n",
    "    return node[-1] == 'Z'\n",
    "\n",
    "def lcm_arr(arr):\n",
    "    # Least common multiple for an array of values\n",
    "    if len(arr) == 2:\n",
    "        return lcm(arr[0], arr[1])\n",
    "    \n",
    "    return lcm(arr[0], lcm_arr(arr[1:]))"
   ]
  },
  {
   "cell_type": "markdown",
   "metadata": {},
   "source": [
    "### Solution"
   ]
  },
  {
   "cell_type": "code",
   "execution_count": 20,
   "metadata": {},
   "outputs": [],
   "source": [
    "def solvePart2(data):\n",
    "    pattern, net = buildInstructions(data)\n",
    "    nodes = getStartingNodes(net)\n",
    "\n",
    "    # Get steps to first z for each node\n",
    "    steps = []\n",
    "    for node in nodes:\n",
    "        count = idx = 0\n",
    "        cur = node\n",
    "\n",
    "        while not endsWithZ(cur):\n",
    "            cur = updateNode(cur, pattern[idx], net)\n",
    "            count += 1\n",
    "            idx = updateIndex(pattern, idx)\n",
    "\n",
    "        steps.append(count)\n",
    "\n",
    "    # Find lowest common multiple for answer\n",
    "    return lcm_arr(steps)"
   ]
  },
  {
   "cell_type": "code",
   "execution_count": 21,
   "metadata": {},
   "outputs": [
    {
     "data": {
      "text/plain": [
       "14321394058031"
      ]
     },
     "execution_count": 21,
     "metadata": {},
     "output_type": "execute_result"
    }
   ],
   "source": [
    "solvePart2(data)"
   ]
  }
 ],
 "metadata": {
  "kernelspec": {
   "display_name": "Python 3",
   "language": "python",
   "name": "python3"
  },
  "language_info": {
   "codemirror_mode": {
    "name": "ipython",
    "version": 3
   },
   "file_extension": ".py",
   "mimetype": "text/x-python",
   "name": "python",
   "nbconvert_exporter": "python",
   "pygments_lexer": "ipython3",
   "version": "3.11.6"
  }
 },
 "nbformat": 4,
 "nbformat_minor": 2
}
