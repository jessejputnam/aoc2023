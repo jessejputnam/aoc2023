{
 "cells": [
  {
   "cell_type": "code",
   "execution_count": 1,
   "metadata": {},
   "outputs": [],
   "source": [
    "from lib.func import fetch, reduce"
   ]
  },
  {
   "cell_type": "code",
   "execution_count": 148,
   "metadata": {},
   "outputs": [],
   "source": [
    "data = fetch(5)"
   ]
  },
  {
   "cell_type": "markdown",
   "metadata": {},
   "source": [
    "## Parsing Data"
   ]
  },
  {
   "cell_type": "code",
   "execution_count": 82,
   "metadata": {},
   "outputs": [],
   "source": [
    "def splitInstructions(data):\n",
    "    items = data.split(\"\\n\\n\")\n",
    "    seeds = [int(x) for x in items[0].split(\": \")[1].split()]\n",
    "    return [seeds, items[1:]]"
   ]
  },
  {
   "cell_type": "code",
   "execution_count": 49,
   "metadata": {},
   "outputs": [],
   "source": [
    "def getSeedsAndStages(data):\n",
    "    seeds, stages_raw = splitInstructions(data)\n",
    "\n",
    "    stages = {}\n",
    "\n",
    "    for s in stages_raw:\n",
    "        title = None\n",
    "        for i, row in enumerate(s.split(\"\\n\")):\n",
    "            if (i == 0):\n",
    "                title = row.split(\" \")[0]\n",
    "                stages[title] = []\n",
    "            else:\n",
    "                stages[title].append([int(x) for x in row.split()])\n",
    "\n",
    "    return [seeds, stages]\n"
   ]
  },
  {
   "cell_type": "markdown",
   "metadata": {},
   "source": [
    "## Part 1"
   ]
  },
  {
   "cell_type": "markdown",
   "metadata": {},
   "source": [
    "### Functions"
   ]
  },
  {
   "cell_type": "code",
   "execution_count": 140,
   "metadata": {},
   "outputs": [],
   "source": [
    "def runConversion(conversion_chart, stage, num):\n",
    "    for row in conversion_chart[stage]:\n",
    "        start, end, convert_sum = [row[1], row[1] + row[2], row[0]]\n",
    "\n",
    "        if num >= start and num < end:\n",
    "\n",
    "            return convert_sum + (num - start)\n",
    "\n",
    "    return num\n",
    "\n",
    "def runAllConversions(conversion_chart, seed):\n",
    "    types = ['seed', 'soil', 'fertilizer', 'water', 'light', 'temperature', 'humidity', 'location']\n",
    "    current_id = seed\n",
    "\n",
    "    for i in range(len(types) - 1):\n",
    "        conversion = f'{types[i]}-to-{types[i + 1]}'\n",
    "        current_id = runConversion(conversion_chart, conversion, current_id)\n",
    "        \n",
    "    return current_id"
   ]
  },
  {
   "cell_type": "markdown",
   "metadata": {},
   "source": [
    "### Solution"
   ]
  },
  {
   "cell_type": "code",
   "execution_count": 141,
   "metadata": {},
   "outputs": [],
   "source": [
    "def getLowestLocation(data):\n",
    "    seeds, conversion_chart = getSeedsAndStages(data)\n",
    "    \n",
    "    locations = []\n",
    "\n",
    "    for seed in seeds:\n",
    "        location = runAllConversions(conversion_chart, seed)\n",
    "        locations.append(location)\n",
    "\n",
    "    return min(locations)"
   ]
  },
  {
   "cell_type": "code",
   "execution_count": 142,
   "metadata": {},
   "outputs": [
    {
     "data": {
      "text/plain": [
       "35"
      ]
     },
     "execution_count": 142,
     "metadata": {},
     "output_type": "execute_result"
    }
   ],
   "source": [
    "getLowestLocation(data)"
   ]
  },
  {
   "cell_type": "markdown",
   "metadata": {},
   "source": [
    "## Part 2"
   ]
  },
  {
   "cell_type": "markdown",
   "metadata": {},
   "source": [
    "### Functions"
   ]
  },
  {
   "cell_type": "code",
   "execution_count": 190,
   "metadata": {},
   "outputs": [],
   "source": [
    "def runAllConversionsSeedRange(conversion_chart, types, seed_range):\n",
    "    min_location = None\n",
    "    \n",
    "    for seed in range(seed_range[0], seed_range[1]):\n",
    "        current_id = seed\n",
    "\n",
    "        for i in range(len(types) - 1):\n",
    "            conversion = f'{types[i]}-to-{types[i + 1]}'\n",
    "            current_id = runConversion(conversion_chart, conversion, current_id)\n",
    "\n",
    "        min_location = min(min_location, current_id) if min_location else current_id\n",
    "        \n",
    "    return min_location"
   ]
  },
  {
   "cell_type": "markdown",
   "metadata": {},
   "source": [
    "### Solution"
   ]
  },
  {
   "cell_type": "code",
   "execution_count": 188,
   "metadata": {},
   "outputs": [],
   "source": [
    "def getLowestLocationSeedRange(data):\n",
    "    count = 0\n",
    "    seeds, conversion_chart = getSeedsAndStages(data)\n",
    "    types = ['seed', 'soil', 'fertilizer', 'water', 'light', 'temperature', 'humidity', 'location']\n",
    "    \n",
    "    min_location = None\n",
    "\n",
    "    for i in range(0, len(seeds) - 1, 2):\n",
    "        seed_range = [seeds[i], seeds[i] + seeds[i + 1]]\n",
    "        count += seeds[i + 1]\n",
    "        location = runAllConversionsSeedRange(conversion_chart, types, seed_range)\n",
    "        if not min_location: \n",
    "            min_location = location\n",
    "        else:\n",
    "            min_location = min(min_location, location)\n",
    "\n",
    "    print(count)\n",
    "    return min_location"
   ]
  },
  {
   "cell_type": "code",
   "execution_count": null,
   "metadata": {},
   "outputs": [],
   "source": [
    "getLowestLocationSeedRange(data)"
   ]
  }
 ],
 "metadata": {
  "kernelspec": {
   "display_name": "Python 3",
   "language": "python",
   "name": "python3"
  },
  "language_info": {
   "codemirror_mode": {
    "name": "ipython",
    "version": 3
   },
   "file_extension": ".py",
   "mimetype": "text/x-python",
   "name": "python",
   "nbconvert_exporter": "python",
   "pygments_lexer": "ipython3",
   "version": "3.11.6"
  }
 },
 "nbformat": 4,
 "nbformat_minor": 2
}
