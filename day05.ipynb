{
 "cells": [
  {
   "cell_type": "code",
   "execution_count": 1,
   "metadata": {},
   "outputs": [],
   "source": [
    "from lib.func import fetch, reduce"
   ]
  },
  {
   "cell_type": "code",
   "execution_count": 78,
   "metadata": {},
   "outputs": [],
   "source": [
    "data = fetch(5)"
   ]
  },
  {
   "cell_type": "code",
   "execution_count": 2,
   "metadata": {},
   "outputs": [],
   "source": [
    "data = '''seeds: 79 14 55 13\n",
    "\n",
    "seed-to-soil map:\n",
    "50 98 2\n",
    "52 50 48\n",
    "\n",
    "soil-to-fertilizer map:\n",
    "0 15 37\n",
    "37 52 2\n",
    "39 0 15\n",
    "\n",
    "fertilizer-to-water map:\n",
    "49 53 8\n",
    "0 11 42\n",
    "42 0 7\n",
    "57 7 4\n",
    "\n",
    "water-to-light map:\n",
    "88 18 7\n",
    "18 25 70\n",
    "\n",
    "light-to-temperature map:\n",
    "45 77 23\n",
    "81 45 19\n",
    "68 64 13\n",
    "\n",
    "temperature-to-humidity map:\n",
    "0 69 1\n",
    "1 0 69\n",
    "\n",
    "humidity-to-location map:\n",
    "60 56 37\n",
    "56 93 4'''"
   ]
  },
  {
   "cell_type": "markdown",
   "metadata": {},
   "source": [
    "## Parsing Data"
   ]
  },
  {
   "cell_type": "code",
   "execution_count": 82,
   "metadata": {},
   "outputs": [],
   "source": [
    "def splitInstructions(data):\n",
    "    items = data.split(\"\\n\\n\")\n",
    "    seeds = [int(x) for x in items[0].split(\": \")[1].split()]\n",
    "    return [seeds, items[1:]]"
   ]
  },
  {
   "cell_type": "code",
   "execution_count": 49,
   "metadata": {},
   "outputs": [],
   "source": [
    "def getSeedsAndStages(data):\n",
    "    seeds, stages_raw = splitInstructions(data)\n",
    "\n",
    "    stages = {}\n",
    "\n",
    "    for s in stages_raw:\n",
    "        title = None\n",
    "        for i, row in enumerate(s.split(\"\\n\")):\n",
    "            if (i == 0):\n",
    "                title = row.split(\" \")[0]\n",
    "                stages[title] = []\n",
    "            else:\n",
    "                stages[title].append([int(x) for x in row.split()])\n",
    "\n",
    "    return [seeds, stages]\n"
   ]
  },
  {
   "cell_type": "markdown",
   "metadata": {},
   "source": [
    "## Part 1"
   ]
  },
  {
   "cell_type": "markdown",
   "metadata": {},
   "source": [
    "### Functions"
   ]
  },
  {
   "cell_type": "code",
   "execution_count": 84,
   "metadata": {},
   "outputs": [],
   "source": [
    "def runConversion(conversion_chart, stage, num):\n",
    "    for row in conversion_chart[stage]:\n",
    "        start = row[1]\n",
    "        end = row[1] + row[2]\n",
    "        convert_sum = row[0]\n",
    "\n",
    "        if num >= start and num <= end:\n",
    "            return convert_sum + (num - start)\n",
    "        \n",
    "    return num\n",
    "\n",
    "def runAllConversions(conversion_chart, seed):\n",
    "    types = ['seed', 'soil', 'fertilizer', 'water', 'light', 'temperature', 'humidity', 'location']\n",
    "    current_id = seed\n",
    "\n",
    "    for i in range(len(types) - 1):\n",
    "        current_id = runConversion(conversion_chart, f'{types[i]}-to-{types[i + 1]}', current_id)\n",
    "        \n",
    "    return current_id"
   ]
  },
  {
   "cell_type": "markdown",
   "metadata": {},
   "source": [
    "### Solution"
   ]
  },
  {
   "cell_type": "code",
   "execution_count": 85,
   "metadata": {},
   "outputs": [],
   "source": [
    "def getLowestLocation(data):\n",
    "    seeds, conversion_chart = getSeedsAndStages(data)\n",
    "    \n",
    "    locations = []\n",
    "\n",
    "    for seed in seeds:\n",
    "        location = runAllConversions(conversion_chart, seed)\n",
    "        locations.append(location)\n",
    "\n",
    "    print(min(locations))"
   ]
  },
  {
   "cell_type": "code",
   "execution_count": 86,
   "metadata": {},
   "outputs": [
    {
     "name": "stdout",
     "output_type": "stream",
     "text": [
      "457535844\n"
     ]
    }
   ],
   "source": [
    "getLowestLocation(data)"
   ]
  },
  {
   "cell_type": "markdown",
   "metadata": {},
   "source": [
    "## Part 2"
   ]
  },
  {
   "cell_type": "markdown",
   "metadata": {},
   "source": [
    "### Functions"
   ]
  },
  {
   "cell_type": "markdown",
   "metadata": {},
   "source": [
    "### Solution"
   ]
  }
 ],
 "metadata": {
  "kernelspec": {
   "display_name": "Python 3",
   "language": "python",
   "name": "python3"
  },
  "language_info": {
   "codemirror_mode": {
    "name": "ipython",
    "version": 3
   },
   "file_extension": ".py",
   "mimetype": "text/x-python",
   "name": "python",
   "nbconvert_exporter": "python",
   "pygments_lexer": "ipython3",
   "version": "3.11.6"
  }
 },
 "nbformat": 4,
 "nbformat_minor": 2
}
