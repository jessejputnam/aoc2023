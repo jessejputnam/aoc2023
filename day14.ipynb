{
 "cells": [
  {
   "cell_type": "code",
   "execution_count": 1,
   "metadata": {},
   "outputs": [],
   "source": [
    "from lib.func import fetch"
   ]
  },
  {
   "cell_type": "code",
   "execution_count": 47,
   "metadata": {},
   "outputs": [],
   "source": [
    "data = '''O....#....\n",
    "O.OO#....#\n",
    ".....##...\n",
    "OO.#O....O\n",
    ".O.....O#.\n",
    "O.#..O.#.#\n",
    "..O..#O..O\n",
    ".......O..\n",
    "#....###..\n",
    "#OO..#....'''.split('\\n')"
   ]
  },
  {
   "cell_type": "code",
   "execution_count": 61,
   "metadata": {},
   "outputs": [],
   "source": [
    "data = fetch(14).split('\\n')"
   ]
  },
  {
   "cell_type": "markdown",
   "metadata": {},
   "source": [
    "### Functions"
   ]
  },
  {
   "cell_type": "code",
   "execution_count": 57,
   "metadata": {},
   "outputs": [],
   "source": [
    "# Get row that rock lands on in north tilted board\n",
    "def getLandingRow(tilted_board, i):\n",
    "    for x in range(len(tilted_board) - 2, -1, -1):\n",
    "        if tilted_board[x][i] == '#' or tilted_board[x][i] == 'O':\n",
    "            return x + 1\n",
    "    return 0\n",
    "\n",
    "\n",
    "# Build tilted board from original board\n",
    "def getTiltedBoard(data):\n",
    "    tilted_board = [list(data[0])]\n",
    "\n",
    "    for n in range(1, len(data)):\n",
    "        row = data[n]\n",
    "        tilted_board.append(['.'] * len(row))\n",
    "\n",
    "        for i in range(len(row)):\n",
    "            row_idx = getLandingRow(tilted_board, i) if row[i] == 'O' else -1\n",
    "            tilted_board[row_idx][i] = row[i]\n",
    "\n",
    "    return tilted_board\n",
    "\n",
    "\n",
    "def getStoneCount(row):\n",
    "    return len([x for x in row if x == 'O'])"
   ]
  },
  {
   "cell_type": "markdown",
   "metadata": {},
   "source": [
    "### Solution"
   ]
  },
  {
   "cell_type": "code",
   "execution_count": 59,
   "metadata": {},
   "outputs": [],
   "source": [
    "def solve(data):\n",
    "    tilted_board =  getTiltedBoard(data)\n",
    "\n",
    "    n = len(tilted_board)\n",
    "\n",
    "    sum = 0\n",
    "    for i, row in enumerate(tilted_board):\n",
    "        sum += getStoneCount(row) * (n - i)\n",
    "\n",
    "    return sum"
   ]
  },
  {
   "cell_type": "code",
   "execution_count": 62,
   "metadata": {},
   "outputs": [
    {
     "data": {
      "text/plain": [
       "108935"
      ]
     },
     "execution_count": 62,
     "metadata": {},
     "output_type": "execute_result"
    }
   ],
   "source": [
    "solve(data)"
   ]
  }
 ],
 "metadata": {
  "kernelspec": {
   "display_name": "Python 3",
   "language": "python",
   "name": "python3"
  },
  "language_info": {
   "codemirror_mode": {
    "name": "ipython",
    "version": 3
   },
   "file_extension": ".py",
   "mimetype": "text/x-python",
   "name": "python",
   "nbconvert_exporter": "python",
   "pygments_lexer": "ipython3",
   "version": "3.11.6"
  }
 },
 "nbformat": 4,
 "nbformat_minor": 2
}
