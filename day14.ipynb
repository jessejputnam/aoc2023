{
 "cells": [
  {
   "cell_type": "code",
   "execution_count": 1,
   "metadata": {},
   "outputs": [],
   "source": [
    "from lib.func import fetch"
   ]
  },
  {
   "cell_type": "code",
   "execution_count": 297,
   "metadata": {},
   "outputs": [],
   "source": [
    "data = '''O....#....\n",
    "O.OO#....#\n",
    ".....##...\n",
    "OO.#O....O\n",
    ".O.....O#.\n",
    "O.#..O.#.#\n",
    "..O..#O..O\n",
    ".......O..\n",
    "#....###..\n",
    "#OO..#....'''.split('\\n')\n",
    "data = [list(row) for row in data]"
   ]
  },
  {
   "cell_type": "code",
   "execution_count": 368,
   "metadata": {},
   "outputs": [],
   "source": [
    "data = fetch(14).split('\\n')\n",
    "data = [list(row) for row in data]"
   ]
  },
  {
   "cell_type": "markdown",
   "metadata": {},
   "source": [
    "### Functions"
   ]
  },
  {
   "cell_type": "code",
   "execution_count": 316,
   "metadata": {},
   "outputs": [],
   "source": [
    "def buildEmptyBoard(n):\n",
    "    board = []\n",
    "    for i in range(n):\n",
    "        board.append(['.'] * n)\n",
    "    return board\n",
    "\n",
    "def getStartStop(iter, step, n):\n",
    "    return [iter + (-step), n if step == -1 else -1]\n",
    "\n",
    "# Get row that rock lands on in north tilted board\n",
    "def getLandingRow(board, cur_row, col, step):\n",
    "    start, stop = getStartStop(cur_row, step, len(board))\n",
    "    for i in range(start, stop, -step):\n",
    "        if board[i][col] in '#O':\n",
    "            return i + step\n",
    "    return len(board) - 1 if step == -1 else 0\n",
    "\n",
    "\n",
    "def getLandingCol(board, row, cur_col, step):\n",
    "    start, stop = getStartStop(cur_col, step, len(board))\n",
    "    for x in range(start, stop, -step):\n",
    "        if board[row][x] in 'O#':\n",
    "            return x + step\n",
    "    return len(board) - 1 if step == -1 else 0\n",
    "\n",
    "\n",
    "# Build tilted board from original board\n",
    "def tiltNS(data, start_idx=0):\n",
    "    n = len(data)\n",
    "    step = 1 if not start_idx else start_idx\n",
    "    \n",
    "    # Build empty board\n",
    "    board = buildEmptyBoard(n)\n",
    "\n",
    "    # build first row\n",
    "    for i, cell in enumerate(data[start_idx]):\n",
    "        board[start_idx][i] = cell\n",
    "    \n",
    "    # iterate over remaining rows to find landing row\n",
    "    a, b = [(0 if not start_idx else n - 1) + step, n if not start_idx else -1]\n",
    "    for i in range(a, b, step):\n",
    "        row = data[i]\n",
    "        for j in range(n):\n",
    "            row_idx = getLandingRow(board, i, j, step) if row[j] == 'O' else i\n",
    "            board[row_idx][j] = row[j]\n",
    "    return board\n",
    "\n",
    "def tiltWE(data, start_idx=0):\n",
    "    n = len(data)\n",
    "    step = 1 if not start_idx else start_idx\n",
    "\n",
    "    # build empty board\n",
    "    board = buildEmptyBoard(n)\n",
    "\n",
    "    start, stop = [n - 1 if start_idx else 0, -1 if start_idx else n]\n",
    "    for i in range(n):\n",
    "        for j in range(start, stop, step):\n",
    "            cell = data[i][j]\n",
    "            if cell == 'O':\n",
    "                board[i][getLandingCol(board, i, j, step)] = 'O'\n",
    "            else:\n",
    "                board[i][j] = data[i][j]\n",
    "\n",
    "    return board\n",
    "\n",
    "def runCycles(board, n):\n",
    "    for _ in range(n):\n",
    "        board = tiltNS(board)\n",
    "        board = tiltWE(board)\n",
    "        board = tiltNS(board, -1)\n",
    "        board = tiltWE(board, -1)\n",
    "    return board\n",
    "\n",
    "\n",
    "def getStoneCount(row):\n",
    "    return len([x for x in row if x == 'O'])\n",
    "\n",
    "\n",
    "def getSumStoneCounts(board):\n",
    "    n = len(board)\n",
    "    sum = 0\n",
    "    for i, row in enumerate(board):\n",
    "        sum += getStoneCount(row) * (n - i)\n",
    "\n",
    "    return sum"
   ]
  },
  {
   "cell_type": "markdown",
   "metadata": {},
   "source": [
    "### Solution"
   ]
  },
  {
   "cell_type": "code",
   "execution_count": 377,
   "metadata": {},
   "outputs": [],
   "source": [
    "def getTotalNorthSupportLoad(data, cycles):\n",
    "    # tilted_board =  getTiltedBoard(data, 'n')\n",
    "    board = data\n",
    "\n",
    "    board = runCycles(board, cycles)\n",
    "\n",
    "    # for row in board:\n",
    "    #     print(row)\n",
    "\n",
    "    return getSumStoneCounts(board)"
   ]
  },
  {
   "cell_type": "code",
   "execution_count": null,
   "metadata": {},
   "outputs": [],
   "source": []
  },
  {
   "cell_type": "code",
   "execution_count": 388,
   "metadata": {},
   "outputs": [
    {
     "data": {
      "text/plain": [
       "30"
      ]
     },
     "execution_count": 388,
     "metadata": {},
     "output_type": "execute_result"
    }
   ],
   "source": [
    "(1_000_000_000 - 95) % 35"
   ]
  },
  {
   "cell_type": "code",
   "execution_count": 382,
   "metadata": {},
   "outputs": [
    {
     "name": "stdout",
     "output_type": "stream",
     "text": [
      "100581\n",
      "100635\n"
     ]
    }
   ],
   "source": [
    "\n",
    "print(getTotalNorthSupportLoad(data, 200))\n",
    "print(getTotalNorthSupportLoad(data, 199))"
   ]
  },
  {
   "cell_type": "code",
   "execution_count": 391,
   "metadata": {},
   "outputs": [
    {
     "data": {
      "text/plain": [
       "100876"
      ]
     },
     "execution_count": 391,
     "metadata": {},
     "output_type": "execute_result"
    }
   ],
   "source": [
    "getTotalNorthSupportLoad(data, 95 + 30 + 35)"
   ]
  },
  {
   "cell_type": "code",
   "execution_count": 392,
   "metadata": {},
   "outputs": [
    {
     "name": "stdout",
     "output_type": "stream",
     "text": [
      "90\n"
     ]
    }
   ],
   "source": [
    "for i in range(100):\n",
    "    c = getTotalNorthSupportLoad(data, i)\n",
    "    if c == 100876:\n",
    "        print(i)"
   ]
  },
  {
   "cell_type": "code",
   "execution_count": 395,
   "metadata": {},
   "outputs": [
    {
     "data": {
      "text/plain": [
       "100105"
      ]
     },
     "execution_count": 395,
     "metadata": {},
     "output_type": "execute_result"
    }
   ],
   "source": []
  }
 ],
 "metadata": {
  "kernelspec": {
   "display_name": "Python 3",
   "language": "python",
   "name": "python3"
  },
  "language_info": {
   "codemirror_mode": {
    "name": "ipython",
    "version": 3
   },
   "file_extension": ".py",
   "mimetype": "text/x-python",
   "name": "python",
   "nbconvert_exporter": "python",
   "pygments_lexer": "ipython3",
   "version": "3.11.6"
  }
 },
 "nbformat": 4,
 "nbformat_minor": 2
}
