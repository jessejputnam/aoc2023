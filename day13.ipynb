{
 "cells": [
  {
   "cell_type": "code",
   "execution_count": 62,
   "metadata": {},
   "outputs": [],
   "source": [
    "from lib.func import fetch"
   ]
  },
  {
   "cell_type": "code",
   "execution_count": 63,
   "metadata": {},
   "outputs": [],
   "source": [
    "def parseData(data):\n",
    "    data = data.split('\\n\\n')\n",
    "    return [x.split('\\n') for x in data]"
   ]
  },
  {
   "cell_type": "code",
   "execution_count": 64,
   "metadata": {},
   "outputs": [],
   "source": [
    "data = '''#.##..##.\n",
    "..#.##.#.\n",
    "##......#\n",
    "##......#\n",
    "..#.##.#.\n",
    "..##..##.\n",
    "#.#.##.#.\n",
    "\n",
    "#...##..#\n",
    "#....#..#\n",
    "..##..###\n",
    "#####.##.\n",
    "#####.##.\n",
    "..##..###\n",
    "#....#..#'''\n",
    "data = parseData(data)"
   ]
  },
  {
   "cell_type": "code",
   "execution_count": 88,
   "metadata": {},
   "outputs": [],
   "source": [
    "data = parseData(fetch(13))"
   ]
  },
  {
   "cell_type": "markdown",
   "metadata": {},
   "source": [
    "### Functions"
   ]
  },
  {
   "cell_type": "code",
   "execution_count": 126,
   "metadata": {},
   "outputs": [],
   "source": [
    "# Check if a row mirrors itself at imaginary line between idx and idx + 1\n",
    "def isMirror(row, idx):\n",
    "    i, j = [idx, idx + 1]\n",
    "\n",
    "    while i >= 0 and j < len(row):\n",
    "        if not row[i] == row[j]:\n",
    "            return False\n",
    "        i, j = [i - 1, j + 1]\n",
    "\n",
    "    return True\n",
    "\n",
    "\n",
    "# Get count of possible imaginary lines for mirror\n",
    "def getLinesCount(lines):\n",
    "    return len([line for line in lines if line])\n",
    "\n",
    "\n",
    "# Find vertical mirror line if exists\n",
    "def getVerticalLine(pattern, n):\n",
    "    vertical_lines = [True] * n\n",
    "\n",
    "    for row in pattern:\n",
    "        for i in range(n):\n",
    "            if not isMirror(row, i):\n",
    "                vertical_lines[i] = False\n",
    "\n",
    "        if getLinesCount(vertical_lines) == 0:\n",
    "            return False\n",
    "\n",
    "    if getLinesCount(vertical_lines) == 1:\n",
    "        return [j for j, x in enumerate(vertical_lines) if x]\n",
    "        \n",
    "\n",
    "# Find horizontal mirror line if exists\n",
    "def getHorizontalLine(pattern, n):\n",
    "    horizontal_lines = [True] * n\n",
    "\n",
    "    for i in range(len(pattern[0])):\n",
    "        col = [row[i] for row in pattern]\n",
    "        \n",
    "        for j in range(n):\n",
    "            if not isMirror(col, j):\n",
    "                horizontal_lines[j] = False\n",
    "\n",
    "        if getLinesCount(horizontal_lines) == 0:\n",
    "            return False\n",
    "        \n",
    "    if getLinesCount(horizontal_lines) == 1:\n",
    "        return [k for k, x in enumerate(horizontal_lines) if x]\n",
    "        \n",
    "\n",
    "# Get the note summary for each pattern\n",
    "def getPatternSum(pattern):\n",
    "    hn = len(pattern[0]) - 1\n",
    "    vn = len(pattern) - 1\n",
    "\n",
    "    vert = getVerticalLine(pattern, hn)\n",
    "    if vert:\n",
    "        return vert[0] + 1\n",
    "\n",
    "    horiz = getHorizontalLine(pattern, vn)\n",
    "    if horiz:\n",
    "        return 100 * (horiz[0] + 1)\n",
    "    \n",
    "    return 0\n",
    "\n"
   ]
  },
  {
   "cell_type": "markdown",
   "metadata": {},
   "source": [
    "### Solution"
   ]
  },
  {
   "cell_type": "code",
   "execution_count": 122,
   "metadata": {},
   "outputs": [],
   "source": [
    "def solve(data):\n",
    "    output = 0\n",
    "\n",
    "    for pattern in data:\n",
    "        output += getPatternSum(pattern)\n",
    "\n",
    "    return output"
   ]
  },
  {
   "cell_type": "code",
   "execution_count": 127,
   "metadata": {},
   "outputs": [
    {
     "data": {
      "text/plain": [
       "28895"
      ]
     },
     "execution_count": 127,
     "metadata": {},
     "output_type": "execute_result"
    }
   ],
   "source": [
    "solve(data)"
   ]
  }
 ],
 "metadata": {
  "kernelspec": {
   "display_name": "Python 3",
   "language": "python",
   "name": "python3"
  },
  "language_info": {
   "codemirror_mode": {
    "name": "ipython",
    "version": 3
   },
   "file_extension": ".py",
   "mimetype": "text/x-python",
   "name": "python",
   "nbconvert_exporter": "python",
   "pygments_lexer": "ipython3",
   "version": "3.11.6"
  }
 },
 "nbformat": 4,
 "nbformat_minor": 2
}
