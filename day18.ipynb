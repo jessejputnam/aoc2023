{
 "cells": [
  {
   "cell_type": "code",
   "execution_count": 1,
   "metadata": {},
   "outputs": [],
   "source": [
    "from lib.func import fetch"
   ]
  },
  {
   "cell_type": "code",
   "execution_count": 10,
   "metadata": {},
   "outputs": [],
   "source": [
    "def buildMatrix(data):\n",
    "    return [[int(x) for x in row] for row in data.split('\\n')]"
   ]
  },
  {
   "cell_type": "code",
   "execution_count": 12,
   "metadata": {},
   "outputs": [],
   "source": [
    "data = '''2413432311323\n",
    "3215453535623\n",
    "3255245654254\n",
    "3446585845452\n",
    "4546657867536\n",
    "1438598798454\n",
    "4457876987766\n",
    "3637877979653\n",
    "4654967986887\n",
    "4564679986453\n",
    "1224686865563\n",
    "2546548887735\n",
    "4322674655533'''\n",
    "data = buildMatrix(data)"
   ]
  },
  {
   "cell_type": "code",
   "execution_count": 15,
   "metadata": {},
   "outputs": [],
   "source": [
    "data = [\n",
    "    [0, 1, 2],\n",
    "    [3, 4, 5],\n",
    "    [6, 7, 8]\n",
    "]"
   ]
  },
  {
   "cell_type": "markdown",
   "metadata": {},
   "source": [
    "### Functions"
   ]
  },
  {
   "cell_type": "code",
   "execution_count": null,
   "metadata": {},
   "outputs": [],
   "source": [
    "def invalidCoords(coord, n):\n",
    "    return coord[0] < 0 or coord[0] >= n or coord[1] < 0 or coord[1] >= n\n",
    "\n",
    "def findPaths(data, path=[[0, 0]], paths=[]):\n",
    "    n = len(data)\n",
    "    if path[-1] == [2, 2]:\n",
    "        paths.append(path)\n",
    "        return\n",
    "\n",
    "    if invalidCoords(path[-1], n):\n",
    "        return\n",
    "    \n"
   ]
  },
  {
   "cell_type": "markdown",
   "metadata": {},
   "source": [
    "### Solution"
   ]
  },
  {
   "cell_type": "code",
   "execution_count": 14,
   "metadata": {},
   "outputs": [
    {
     "data": {
      "text/plain": [
       "[[2, 4, 1, 3, 4, 3, 2, 3, 1, 1, 3, 2, 3],\n",
       " [3, 2, 1, 5, 4, 5, 3, 5, 3, 5, 6, 2, 3],\n",
       " [3, 2, 5, 5, 2, 4, 5, 6, 5, 4, 2, 5, 4],\n",
       " [3, 4, 4, 6, 5, 8, 5, 8, 4, 5, 4, 5, 2],\n",
       " [4, 5, 4, 6, 6, 5, 7, 8, 6, 7, 5, 3, 6],\n",
       " [1, 4, 3, 8, 5, 9, 8, 7, 9, 8, 4, 5, 4],\n",
       " [4, 4, 5, 7, 8, 7, 6, 9, 8, 7, 7, 6, 6],\n",
       " [3, 6, 3, 7, 8, 7, 7, 9, 7, 9, 6, 5, 3],\n",
       " [4, 6, 5, 4, 9, 6, 7, 9, 8, 6, 8, 8, 7],\n",
       " [4, 5, 6, 4, 6, 7, 9, 9, 8, 6, 4, 5, 3],\n",
       " [1, 2, 2, 4, 6, 8, 6, 8, 6, 5, 5, 6, 3],\n",
       " [2, 5, 4, 6, 5, 4, 8, 8, 8, 7, 7, 3, 5],\n",
       " [4, 3, 2, 2, 6, 7, 4, 6, 5, 5, 5, 3, 3]]"
      ]
     },
     "execution_count": 14,
     "metadata": {},
     "output_type": "execute_result"
    }
   ],
   "source": [
    "def solve(data):\n",
    "\n",
    "\n",
    "    return data\n",
    "\n",
    "\n",
    "solve(data)"
   ]
  }
 ],
 "metadata": {
  "kernelspec": {
   "display_name": "Python 3",
   "language": "python",
   "name": "python3"
  },
  "language_info": {
   "codemirror_mode": {
    "name": "ipython",
    "version": 3
   },
   "file_extension": ".py",
   "mimetype": "text/x-python",
   "name": "python",
   "nbconvert_exporter": "python",
   "pygments_lexer": "ipython3",
   "version": "3.11.6"
  }
 },
 "nbformat": 4,
 "nbformat_minor": 2
}
