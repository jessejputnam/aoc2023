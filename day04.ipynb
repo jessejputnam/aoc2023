{
 "cells": [
  {
   "cell_type": "code",
   "execution_count": 10,
   "metadata": {},
   "outputs": [],
   "source": [
    "from lib.func import fetch, addArrItems"
   ]
  },
  {
   "cell_type": "code",
   "execution_count": 11,
   "metadata": {},
   "outputs": [],
   "source": [
    "data = fetch(4).split(\"\\n\")"
   ]
  },
  {
   "cell_type": "markdown",
   "metadata": {},
   "source": [
    "## Functions"
   ]
  },
  {
   "cell_type": "code",
   "execution_count": 12,
   "metadata": {},
   "outputs": [],
   "source": [
    "def parseCard (card):\n",
    "    nums = card.split(\": \")[1]\n",
    "    winning = nums.split(\" | \")[0].split()\n",
    "    guesses = nums.split(\" | \")[1].split()\n",
    "    return [winning, guesses]"
   ]
  },
  {
   "cell_type": "markdown",
   "metadata": {},
   "source": [
    "## Part 1"
   ]
  },
  {
   "cell_type": "markdown",
   "metadata": {},
   "source": [
    "### Functions"
   ]
  },
  {
   "cell_type": "code",
   "execution_count": 13,
   "metadata": {},
   "outputs": [],
   "source": [
    "def updateCardPoints(current_points):\n",
    "    return 1 if not current_points else current_points * 2\n",
    "\n",
    "def getCardPoints(card):\n",
    "    winning_nums, guess_nums = parseCard(card)\n",
    "\n",
    "    card_points = 0\n",
    "    for guess in guess_nums:\n",
    "        if guess in winning_nums:\n",
    "            card_points = updateCardPoints(card_points)\n",
    "    \n",
    "    return card_points"
   ]
  },
  {
   "cell_type": "markdown",
   "metadata": {},
   "source": [
    "### Solution"
   ]
  },
  {
   "cell_type": "code",
   "execution_count": 14,
   "metadata": {},
   "outputs": [],
   "source": [
    "def getTotalPoints(data):\n",
    "    total_points = 0\n",
    "\n",
    "    for card in data:\n",
    "        card_points = getCardPoints(card)\n",
    "        \n",
    "        total_points += card_points\n",
    "\n",
    "    return total_points\n",
    "    "
   ]
  },
  {
   "cell_type": "code",
   "execution_count": 15,
   "metadata": {},
   "outputs": [
    {
     "data": {
      "text/plain": [
       "26218"
      ]
     },
     "execution_count": 15,
     "metadata": {},
     "output_type": "execute_result"
    }
   ],
   "source": [
    "getTotalPoints(data)"
   ]
  },
  {
   "cell_type": "markdown",
   "metadata": {},
   "source": [
    "## Part 2"
   ]
  },
  {
   "cell_type": "markdown",
   "metadata": {},
   "source": [
    "### Functions"
   ]
  },
  {
   "cell_type": "code",
   "execution_count": 16,
   "metadata": {},
   "outputs": [],
   "source": [
    "def getCardWins(card):\n",
    "    winning_nums, guess_nums = parseCard(card)\n",
    "\n",
    "    wins = 0\n",
    "    for guess in guess_nums:\n",
    "        if guess in winning_nums:\n",
    "            wins += 1\n",
    "\n",
    "    return wins\n",
    "\n",
    "def updateCardTotals(card_totals, idx, wins):\n",
    "    i = idx + 1\n",
    "    for _ in range(wins):\n",
    "        card_totals[i] += card_totals[idx]\n",
    "        i += 1"
   ]
  },
  {
   "cell_type": "markdown",
   "metadata": {},
   "source": [
    "### Solution"
   ]
  },
  {
   "cell_type": "code",
   "execution_count": 17,
   "metadata": {},
   "outputs": [],
   "source": [
    "def getTotalScratchCards(data):\n",
    "    # Initalize original card set - 1 copy of each\n",
    "    card_totals = [1] * len(data)\n",
    "    \n",
    "    for idx, card in enumerate(data):\n",
    "        wins = getCardWins(card)\n",
    "        updateCardTotals(card_totals, idx, wins)\n",
    "\n",
    "    return addArrItems(card_totals)\n",
    "            \n",
    "\n",
    "    "
   ]
  },
  {
   "cell_type": "code",
   "execution_count": 18,
   "metadata": {},
   "outputs": [
    {
     "data": {
      "text/plain": [
       "9997537"
      ]
     },
     "execution_count": 18,
     "metadata": {},
     "output_type": "execute_result"
    }
   ],
   "source": [
    "getTotalScratchCards(data)"
   ]
  }
 ],
 "metadata": {
  "kernelspec": {
   "display_name": "Python 3",
   "language": "python",
   "name": "python3"
  },
  "language_info": {
   "codemirror_mode": {
    "name": "ipython",
    "version": 3
   },
   "file_extension": ".py",
   "mimetype": "text/x-python",
   "name": "python",
   "nbconvert_exporter": "python",
   "pygments_lexer": "ipython3",
   "version": "3.11.6"
  }
 },
 "nbformat": 4,
 "nbformat_minor": 2
}
