{
 "cells": [
  {
   "cell_type": "code",
   "execution_count": 1,
   "metadata": {},
   "outputs": [],
   "source": [
    "from lib.func import fetch"
   ]
  },
  {
   "cell_type": "code",
   "execution_count": 2,
   "metadata": {},
   "outputs": [],
   "source": [
    "data = '''...#......\n",
    ".......#..\n",
    "#.........\n",
    "..........\n",
    "......#...\n",
    ".#........\n",
    ".........#\n",
    "..........\n",
    ".......#..\n",
    "#...#.....'''.split(\"\\n\")"
   ]
  },
  {
   "cell_type": "code",
   "execution_count": 3,
   "metadata": {},
   "outputs": [],
   "source": [
    "data = fetch(11).split('\\n')"
   ]
  },
  {
   "cell_type": "markdown",
   "metadata": {},
   "source": [
    "## Part 1"
   ]
  },
  {
   "cell_type": "markdown",
   "metadata": {},
   "source": [
    "### Functions"
   ]
  },
  {
   "cell_type": "code",
   "execution_count": 5,
   "metadata": {},
   "outputs": [],
   "source": [
    "def getEmptyRowCol(data):\n",
    "    n = len(data)\n",
    "    rows = [0] * n\n",
    "    cols = [0] * n\n",
    "\n",
    "    for i in range(n):\n",
    "        for j in range(n):\n",
    "            if data[i][j] == '#':\n",
    "                rows[i] += 1\n",
    "                cols[j] += 1\n",
    "\n",
    "    return [rows, cols]\n",
    "\n",
    "def buildExpandedRow(i, cols, data):\n",
    "    n = len(data)\n",
    "    row = ''\n",
    "    for j in range(n):\n",
    "        row += '..' if cols[j] == 0 else data[i][j]\n",
    "    return row\n",
    "\n",
    "\n",
    "def expandUniverse(data):\n",
    "    n = len(data)\n",
    "    rows, cols = getEmptyRowCol(data)\n",
    "\n",
    "    n2 = n + cols.count(0)\n",
    "    universe = []\n",
    "\n",
    "    for i in range(n):\n",
    "        if rows[i] == 0:\n",
    "            universe.append('.' * n2)\n",
    "            universe.append('.' * n2)\n",
    "        else:\n",
    "            universe.append(buildExpandedRow(i, cols, data))\n",
    "\n",
    "    return universe\n",
    "\n",
    "\n",
    "def getGalaxyCoords(universe):\n",
    "    coords = []\n",
    "    for i, row in enumerate(universe):\n",
    "        for j, cell in enumerate(row):\n",
    "            if cell == '#':\n",
    "                coords.append([i, j])\n",
    "    return coords\n",
    "\n",
    "def getShortestPath(a, b):\n",
    "    return abs(b[0] - a[0]) + abs(b[1] - a[1])\n",
    "\n",
    "def getAllShortestPaths(coords, universe):\n",
    "    steps = []\n",
    "    n = len(coords) - 1\n",
    "    for i in range(n):\n",
    "        galaxy_a = coords[i]\n",
    "        for j in range(i + 1, n + 1):\n",
    "            galaxy_b = coords[j]\n",
    "            steps.append(getShortestPath(galaxy_a, galaxy_b))\n",
    "    return steps\n",
    "\n",
    "def addArrItems(arr):\n",
    "    output = 0\n",
    "    for num in arr:\n",
    "        output += num\n",
    "    return output"
   ]
  },
  {
   "cell_type": "markdown",
   "metadata": {},
   "source": [
    "### Solution"
   ]
  },
  {
   "cell_type": "code",
   "execution_count": 6,
   "metadata": {},
   "outputs": [],
   "source": [
    "from functools import reduce\n",
    "\n",
    "\n",
    "def solvePart1(data):\n",
    "    # expand universe\n",
    "    universe = expandUniverse(data)\n",
    "\n",
    "    # find galaxies\n",
    "    galaxy_coords = getGalaxyCoords(universe)\n",
    "\n",
    "    # find all shortest paths for each relationship\n",
    "    paths = getAllShortestPaths(galaxy_coords, universe)\n",
    "    # add all paths together\n",
    "    return reduce(paths)"
   ]
  },
  {
   "cell_type": "code",
   "execution_count": 7,
   "metadata": {},
   "outputs": [
    {
     "ename": "TypeError",
     "evalue": "reduce expected at least 2 arguments, got 1",
     "output_type": "error",
     "traceback": [
      "\u001b[0;31m---------------------------------------------------------------------------\u001b[0m",
      "\u001b[0;31mTypeError\u001b[0m                                 Traceback (most recent call last)",
      "Cell \u001b[0;32mIn[7], line 1\u001b[0m\n\u001b[0;32m----> 1\u001b[0m \u001b[43msolvePart1\u001b[49m\u001b[43m(\u001b[49m\u001b[43mdata\u001b[49m\u001b[43m)\u001b[49m\n",
      "Cell \u001b[0;32mIn[6], line 14\u001b[0m, in \u001b[0;36msolvePart1\u001b[0;34m(data)\u001b[0m\n\u001b[1;32m     12\u001b[0m paths \u001b[38;5;241m=\u001b[39m getAllShortestPaths(galaxy_coords, universe)\n\u001b[1;32m     13\u001b[0m \u001b[38;5;66;03m# add all paths together\u001b[39;00m\n\u001b[0;32m---> 14\u001b[0m \u001b[38;5;28;01mreturn\u001b[39;00m \u001b[43mreduce\u001b[49m\u001b[43m(\u001b[49m\u001b[43mpaths\u001b[49m\u001b[43m)\u001b[49m\n",
      "\u001b[0;31mTypeError\u001b[0m: reduce expected at least 2 arguments, got 1"
     ]
    }
   ],
   "source": [
    "solvePart1(data)"
   ]
  }
 ],
 "metadata": {
  "kernelspec": {
   "display_name": "Python 3",
   "language": "python",
   "name": "python3"
  },
  "language_info": {
   "codemirror_mode": {
    "name": "ipython",
    "version": 3
   },
   "file_extension": ".py",
   "mimetype": "text/x-python",
   "name": "python",
   "nbconvert_exporter": "python",
   "pygments_lexer": "ipython3",
   "version": "3.11.6"
  }
 },
 "nbformat": 4,
 "nbformat_minor": 2
}
