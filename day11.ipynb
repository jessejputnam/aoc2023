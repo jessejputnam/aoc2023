{
 "cells": [
  {
   "cell_type": "code",
   "execution_count": 5,
   "metadata": {},
   "outputs": [],
   "source": [
    "from lib.func import fetch, addArrItems"
   ]
  },
  {
   "cell_type": "code",
   "execution_count": 33,
   "metadata": {},
   "outputs": [],
   "source": [
    "data = fetch(11).split('\\n')"
   ]
  },
  {
   "cell_type": "markdown",
   "metadata": {},
   "source": [
    "### Functions"
   ]
  },
  {
   "cell_type": "code",
   "execution_count": 45,
   "metadata": {},
   "outputs": [],
   "source": [
    "# Get the idexes of empty rows and columns\n",
    "def getEmptyRowCol(data):\n",
    "    n = len(data)\n",
    "    rows, cols = [[0] * n, [0] * n]\n",
    "\n",
    "    for i in range(n):\n",
    "        for j in range(n):\n",
    "            if data[i][j] == '#':\n",
    "                rows[i] += 1\n",
    "                cols[j] += 1\n",
    "\n",
    "    rows = [i for i, x in enumerate(rows) if x == 0]\n",
    "    cols = [i for i, y in enumerate(cols) if y == 0]\n",
    "    return [rows, cols]\n",
    "\n",
    "\n",
    "# Get coordinates of the galaxies in original dataset\n",
    "def getGalaxyCoords(data):\n",
    "    coords = []\n",
    "    for i, row in enumerate(data):\n",
    "        for j, cell in enumerate(row):\n",
    "            if cell == '#':\n",
    "                coords.append([i, j])\n",
    "    return coords\n",
    "\n",
    "\n",
    "# Get number of expansion thresholds crossed by each coordinate point\n",
    "def getConversion(coord, arr, col=False):\n",
    "    for i in range(len(arr)):\n",
    "        if coord[0 if not col else 1] < arr[i]:\n",
    "            return i\n",
    "    return len(arr)\n",
    "\n",
    "\n",
    "# Get the converted coordinate according to thresholds crossed by age of universe\n",
    "def convertCoord(coord, conversion, age):\n",
    "    x = coord[0] + (conversion[0] * (age - 1))\n",
    "    y = coord[1] + (conversion[1] * (age - 1))\n",
    "    return [x, y]\n",
    "\n",
    "\n",
    "# Convert all galaxy coordinates with their conversion values\n",
    "def convertGalaxyCoords(coords, empty_rows, empty_cols, age):\n",
    "    output = []\n",
    "    for coord in coords:\n",
    "        conversion = [getConversion(coord, empty_rows), getConversion(coord, empty_cols, True)]\n",
    "        output.append(convertCoord(coord, conversion, age))\n",
    "    return output\n",
    "\n",
    "\n",
    "# Get the shortest path between two coordinate points\n",
    "def getShortestPath(a, b):\n",
    "    return abs(b[0] - a[0]) + abs(b[1] - a[1])\n",
    "\n",
    "\n",
    "# Get the shortest path between all coordinate points in an array of coordinates\n",
    "def getAllShortestPaths(coords):\n",
    "    steps = []\n",
    "    n = len(coords) - 1\n",
    "    for i in range(n):\n",
    "        galaxy_a = coords[i]\n",
    "        for j in range(i + 1, n + 1):\n",
    "            galaxy_b = coords[j]\n",
    "            steps.append(getShortestPath(galaxy_a, galaxy_b))\n",
    "    return steps"
   ]
  },
  {
   "cell_type": "markdown",
   "metadata": {},
   "source": [
    "### Solution"
   ]
  },
  {
   "cell_type": "code",
   "execution_count": 42,
   "metadata": {},
   "outputs": [],
   "source": [
    "def solve(data, age):\n",
    "    # Find empty rows and columns\n",
    "    empty_rows, empty_cols = getEmptyRowCol(data)\n",
    "\n",
    "    # find galaxies\n",
    "    galaxy_coords = getGalaxyCoords(data)\n",
    "\n",
    "    # convert with expanded universe\n",
    "    converted_coords = convertGalaxyCoords(galaxy_coords, empty_rows, empty_cols, age)\n",
    "\n",
    "    # find all shortest paths for each relationship\n",
    "    paths = getAllShortestPaths(converted_coords)\n",
    "\n",
    "    # add all paths together\n",
    "    return addArrItems(paths)"
   ]
  },
  {
   "cell_type": "code",
   "execution_count": 46,
   "metadata": {},
   "outputs": [
    {
     "data": {
      "text/plain": [
       "717878258016"
      ]
     },
     "execution_count": 46,
     "metadata": {},
     "output_type": "execute_result"
    }
   ],
   "source": [
    "solve(data, 1_000_000)"
   ]
  }
 ],
 "metadata": {
  "kernelspec": {
   "display_name": "Python 3",
   "language": "python",
   "name": "python3"
  },
  "language_info": {
   "codemirror_mode": {
    "name": "ipython",
    "version": 3
   },
   "file_extension": ".py",
   "mimetype": "text/x-python",
   "name": "python",
   "nbconvert_exporter": "python",
   "pygments_lexer": "ipython3",
   "version": "3.11.6"
  }
 },
 "nbformat": 4,
 "nbformat_minor": 2
}
