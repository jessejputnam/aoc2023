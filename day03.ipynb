{
 "cells": [
  {
   "cell_type": "code",
   "execution_count": 2,
   "metadata": {},
   "outputs": [],
   "source": [
    "from lib.func import fetch, reduce"
   ]
  },
  {
   "cell_type": "code",
   "execution_count": 160,
   "metadata": {},
   "outputs": [],
   "source": [
    "data = fetch(3).split(\"\\n\")[0:-1]"
   ]
  },
  {
   "cell_type": "markdown",
   "metadata": {},
   "source": [
    "## Part 1"
   ]
  },
  {
   "cell_type": "markdown",
   "metadata": {},
   "source": [
    "### Functions"
   ]
  },
  {
   "cell_type": "code",
   "execution_count": 20,
   "metadata": {},
   "outputs": [],
   "source": [
    "def isSymbol(char):\n",
    "    return char in [\"@\", \"#\", \"$\", \"%\", \"&\", \"*\", \"-\", \"=\", \"+\", \"/\"]"
   ]
  },
  {
   "cell_type": "code",
   "execution_count": 59,
   "metadata": {},
   "outputs": [],
   "source": [
    "def hasCellAdjascentSymbol(data, i, j):\n",
    "    maxx = len(data)\n",
    "    maxy = len(data[0])\n",
    "\n",
    "    output = False\n",
    "    cycles = [[0, -1], [-1, -1], [-1, 0], [-1, 1], [0, 1], [1, 1], [1, 0], [1, -1]]\n",
    "\n",
    "    for cycle in cycles:\n",
    "        x = i + cycle[0]\n",
    "        y = j + cycle[1]\n",
    "\n",
    "        cellsValid = x >= 0 and x < maxx and y >= 0 and y < maxy\n",
    "        \n",
    "        if cellsValid:\n",
    "            output = True if isSymbol(data[x][y]) else output\n",
    "\n",
    "    return output"
   ]
  },
  {
   "cell_type": "code",
   "execution_count": 89,
   "metadata": {},
   "outputs": [],
   "source": [
    "def getSumPartNums(data):\n",
    "    valid_parts = []\n",
    "\n",
    "    for i, row in enumerate(data):\n",
    "        num = \"\"\n",
    "        isValid = False\n",
    "\n",
    "        for j, cell in enumerate(row):\n",
    "            if cell.isdigit():\n",
    "                num = num + cell\n",
    "                isValid = True if hasCellAdjascentSymbol(data, i, j) else isValid\n",
    "            else:\n",
    "                if num and isValid: \n",
    "                    valid_parts.append(int(num))\n",
    "                num = \"\"\n",
    "                isValid = False\n",
    "\n",
    "        if isValid:\n",
    "            valid_parts.append(int(num))\n",
    "            \n",
    "        num = \"\"\n",
    "        isValid = False\n",
    "\n",
    "    return reduce(valid_parts)\n"
   ]
  },
  {
   "cell_type": "markdown",
   "metadata": {},
   "source": [
    "### Solution"
   ]
  },
  {
   "cell_type": "code",
   "execution_count": 90,
   "metadata": {},
   "outputs": [
    {
     "data": {
      "text/plain": [
       "521601"
      ]
     },
     "execution_count": 90,
     "metadata": {},
     "output_type": "execute_result"
    }
   ],
   "source": [
    "getSumPartNums(data)"
   ]
  },
  {
   "cell_type": "markdown",
   "metadata": {},
   "source": [
    "## Part 2"
   ]
  },
  {
   "cell_type": "markdown",
   "metadata": {},
   "source": [
    "### Functions"
   ]
  },
  {
   "cell_type": "code",
   "execution_count": 142,
   "metadata": {},
   "outputs": [],
   "source": [
    "def findRowLeftNum(row, idx):\n",
    "    num = \"\"\n",
    "\n",
    "    while idx >= 0 and row[idx].isdigit():\n",
    "        num = row[idx] + num\n",
    "        idx -= 1\n",
    "\n",
    "    return None if not num else num"
   ]
  },
  {
   "cell_type": "code",
   "execution_count": 141,
   "metadata": {},
   "outputs": [],
   "source": [
    "def findRowRightNum(row, idx):\n",
    "    num = \"\"\n",
    "\n",
    "    while idx < len(row) and row[idx].isdigit():\n",
    "        num = num + row[idx]\n",
    "        idx += 1\n",
    "        \n",
    "    return None if not num else num"
   ]
  },
  {
   "cell_type": "code",
   "execution_count": 140,
   "metadata": {},
   "outputs": [],
   "source": [
    "def findSameRowNums(row, j):\n",
    "    nums = []\n",
    "\n",
    "    if j > 0 and row[j - 1].isdigit():\n",
    "        nums.append(int(findRowLeftNum(row, j - 1)))\n",
    "    \n",
    "    if (j < len(row) - 1) and row[j + 1].isdigit():\n",
    "        nums.append(int(findRowRightNum(row, j + 1)))\n",
    "\n",
    "    return nums\n"
   ]
  },
  {
   "cell_type": "code",
   "execution_count": 149,
   "metadata": {},
   "outputs": [],
   "source": [
    "def findOtherRowNums(row, j):\n",
    "    nums = []\n",
    "\n",
    "    # If same column has digit\n",
    "    if row[j].isdigit():\n",
    "        num = (findRowLeftNum(row, j - 1) or \"\") + row[j] + (findRowRightNum(row, j + 1) or \"\")\n",
    "\n",
    "        nums.append(int(num))\n",
    "        \n",
    "    # If no digit in same column\n",
    "    else:\n",
    "        left_num = findRowLeftNum(row, j - 1)\n",
    "        if left_num: \n",
    "            nums.append(left_num)\n",
    "\n",
    "        right_num = findRowRightNum(row, j + 1)\n",
    "        if right_num:\n",
    "            nums.append(right_num)\n",
    "\n",
    "    return nums"
   ]
  },
  {
   "cell_type": "code",
   "execution_count": 158,
   "metadata": {},
   "outputs": [],
   "source": [
    "def getSumGearRatios(data):\n",
    "    ratios = []\n",
    "\n",
    "    for i, row in enumerate(data):\n",
    "        # Find gear\n",
    "        for j, cell in enumerate(row):\n",
    "            # Skip if no gear found\n",
    "            if not cell == \"*\": \n",
    "                continue\n",
    "\n",
    "            # List of all adjascent numbers\n",
    "            nums = []\n",
    "\n",
    "            # Nums from same row\n",
    "            for num in findSameRowNums(row, j):\n",
    "                nums.append(num)\n",
    "\n",
    "            # Nums from adjascent row above\n",
    "            if i > 0:\n",
    "                upper_row_nums = findOtherRowNums(data[i - 1], j)\n",
    "                if len(upper_row_nums):\n",
    "                    for num in upper_row_nums:\n",
    "                        nums.append(int(num))\n",
    "\n",
    "            # Nums from adjascent row below\n",
    "            if i < len(data[0]) - 1:\n",
    "                lower_row_nums = findOtherRowNums(data[i + 1], j)\n",
    "                if len(lower_row_nums):\n",
    "                    for num in lower_row_nums:\n",
    "                        nums.append(int(num))\n",
    "\n",
    "            # Add ratio if exactly 2 adjascent numbers\n",
    "            if len(nums) == 2:\n",
    "                ratios.append(nums[0] * nums[1])\n",
    "\n",
    "    # Get product of nums\n",
    "    return reduce(ratios)"
   ]
  },
  {
   "cell_type": "markdown",
   "metadata": {},
   "source": [
    "### Solution"
   ]
  },
  {
   "cell_type": "code",
   "execution_count": 161,
   "metadata": {},
   "outputs": [
    {
     "data": {
      "text/plain": [
       "80694070"
      ]
     },
     "execution_count": 161,
     "metadata": {},
     "output_type": "execute_result"
    }
   ],
   "source": [
    "getSumGearRatios(data)"
   ]
  }
 ],
 "metadata": {
  "kernelspec": {
   "display_name": "Python 3",
   "language": "python",
   "name": "python3"
  },
  "language_info": {
   "codemirror_mode": {
    "name": "ipython",
    "version": 3
   },
   "file_extension": ".py",
   "mimetype": "text/x-python",
   "name": "python",
   "nbconvert_exporter": "python",
   "pygments_lexer": "ipython3",
   "version": "3.11.6"
  }
 },
 "nbformat": 4,
 "nbformat_minor": 2
}
