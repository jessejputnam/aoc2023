{
 "cells": [
  {
   "cell_type": "code",
   "execution_count": 1,
   "metadata": {},
   "outputs": [],
   "source": [
    "from lib.func import fetch"
   ]
  },
  {
   "cell_type": "code",
   "execution_count": 8,
   "metadata": {},
   "outputs": [],
   "source": [
    "def cleanData(data):\n",
    "    data = data.split('\\n')\n",
    "    data = [x.split() for x in data]\n",
    "    data = [[x[0], [int(y) for y in x[1].split(',')]] for x in data]\n",
    "    return data"
   ]
  },
  {
   "cell_type": "code",
   "execution_count": 15,
   "metadata": {},
   "outputs": [],
   "source": [
    "data = '''???.### 1,1,3\n",
    ".??..??...?##. 1,1,3\n",
    "?#?#?#?#?#?#?#? 1,3,1,6\n",
    "????.#...#... 4,1,1\n",
    "????.######..#####. 1,6,5\n",
    "?###???????? 3,2,1'''\n",
    "\n"
   ]
  },
  {
   "cell_type": "code",
   "execution_count": 51,
   "metadata": {},
   "outputs": [],
   "source": [
    "data = fetch(12)"
   ]
  },
  {
   "cell_type": "markdown",
   "metadata": {},
   "source": [
    "### Functions"
   ]
  },
  {
   "cell_type": "code",
   "execution_count": 57,
   "metadata": {},
   "outputs": [],
   "source": [
    "def isAnon(char):\n",
    "    return char == '?'\n",
    "\n",
    "\n",
    "def isDmg(char):\n",
    "    return char == '#'\n",
    "\n",
    "\n",
    "def isValidArrange(record, key):\n",
    "    check = [x for x in record.split('.') if x]\n",
    "    if not len(check) == len(key):\n",
    "        return False\n",
    "    for i, c in enumerate(check):\n",
    "        if not len(c) == key[i]:\n",
    "            return False\n",
    "    return True\n",
    "\n",
    "\n",
    "def getIdxs(row):\n",
    "    return [i for i, char in enumerate(row) if char == '?']\n",
    "\n",
    "\n",
    "def buildRecords(record, records, r=''):\n",
    "    if not record:\n",
    "        records.append(r)\n",
    "        return\n",
    "    \n",
    "    if record[0] == '?':\n",
    "        buildRecords(record[1:], records, r = r + '#')\n",
    "        buildRecords(record[1:], records, r = r + '.')\n",
    "    else:\n",
    "        buildRecords(record[1:], records, r = r + record[0])\n",
    "\n",
    "\n",
    "def getAllCombos(row):\n",
    "    record = row[0]\n",
    "    records = []\n",
    "    buildRecords(record, records)\n",
    "    return records\n",
    "\n",
    "def getValidComboCount(row):\n",
    "    # Get all possible combos\n",
    "    combos = getAllCombos(row)\n",
    "    # Keep only those valid according to key\n",
    "    valid = [combo for combo in combos if isValidArrange(combo, row[1])]\n",
    "    # Return the count of valid combinations\n",
    "    return len(valid)\n",
    "\n"
   ]
  },
  {
   "cell_type": "markdown",
   "metadata": {},
   "source": [
    "### Solution"
   ]
  },
  {
   "cell_type": "code",
   "execution_count": 55,
   "metadata": {},
   "outputs": [],
   "source": [
    "def solve(data):\n",
    "    data = cleanData(data)\n",
    "    total = 0\n",
    "\n",
    "    for row in data:\n",
    "        total += getValidComboCount(row)\n",
    "\n",
    "    return total\n",
    "\n"
   ]
  },
  {
   "cell_type": "code",
   "execution_count": 58,
   "metadata": {},
   "outputs": [
    {
     "data": {
      "text/plain": [
       "7490"
      ]
     },
     "execution_count": 58,
     "metadata": {},
     "output_type": "execute_result"
    }
   ],
   "source": [
    "solve(data)"
   ]
  }
 ],
 "metadata": {
  "kernelspec": {
   "display_name": "Python 3",
   "language": "python",
   "name": "python3"
  },
  "language_info": {
   "codemirror_mode": {
    "name": "ipython",
    "version": 3
   },
   "file_extension": ".py",
   "mimetype": "text/x-python",
   "name": "python",
   "nbconvert_exporter": "python",
   "pygments_lexer": "ipython3",
   "version": "3.11.6"
  }
 },
 "nbformat": 4,
 "nbformat_minor": 2
}
