{
 "cells": [
  {
   "cell_type": "code",
   "execution_count": 40,
   "metadata": {},
   "outputs": [],
   "source": [
    "from lib.func import fetch"
   ]
  },
  {
   "cell_type": "code",
   "execution_count": 62,
   "metadata": {},
   "outputs": [],
   "source": [
    "data = fetch(6)[:-1]"
   ]
  },
  {
   "cell_type": "markdown",
   "metadata": {},
   "source": [
    "## Functions"
   ]
  },
  {
   "cell_type": "code",
   "execution_count": 92,
   "metadata": {},
   "outputs": [],
   "source": [
    "def parseTimeAndDistance(data):\n",
    "    return [[int(y) for y in x.split(\":\")[1].split()] for x in data.split('\\n')]\n",
    "\n",
    "def getWinningPresses(time, record):\n",
    "    winning_btn_presses = []\n",
    "\n",
    "    for i in range(1, time):\n",
    "        distance = (time - i) * i\n",
    "        if distance > record:\n",
    "            winning_btn_presses.append(i)\n",
    "\n",
    "    return winning_btn_presses"
   ]
  },
  {
   "cell_type": "markdown",
   "metadata": {},
   "source": [
    "## Part 1"
   ]
  },
  {
   "cell_type": "markdown",
   "metadata": {},
   "source": [
    "### Functions"
   ]
  },
  {
   "cell_type": "code",
   "execution_count": 114,
   "metadata": {},
   "outputs": [],
   "source": [
    "def multiplyArrValues(arr):\n",
    "    return arr.pop() if len(arr) == 1 else arr.pop(0) * multiplyArrValues(arr)\n",
    "\n",
    "def getRaceSimWinningTotals(times, records):\n",
    "    return [len(getWinningPresses(times[i], records[i])) for i in range(len(times))]"
   ]
  },
  {
   "cell_type": "markdown",
   "metadata": {},
   "source": [
    "### Solution"
   ]
  },
  {
   "cell_type": "code",
   "execution_count": 106,
   "metadata": {},
   "outputs": [],
   "source": [
    "def solvePartOne(data):\n",
    "    race_wins = []\n",
    "    times, records = parseTimeAndDistance(data)\n",
    "    race_wins = getRaceSimWinningTotals(times, records)\n",
    "\n",
    "    return multiplyArrValues(race_wins)\n",
    "    "
   ]
  },
  {
   "cell_type": "code",
   "execution_count": 115,
   "metadata": {},
   "outputs": [
    {
     "data": {
      "text/plain": [
       "861300"
      ]
     },
     "execution_count": 115,
     "metadata": {},
     "output_type": "execute_result"
    }
   ],
   "source": [
    "solvePartOne(data)"
   ]
  },
  {
   "cell_type": "markdown",
   "metadata": {},
   "source": [
    "## Part 2"
   ]
  },
  {
   "cell_type": "markdown",
   "metadata": {},
   "source": [
    "### Functions"
   ]
  },
  {
   "cell_type": "code",
   "execution_count": 99,
   "metadata": {},
   "outputs": [],
   "source": [
    "def concatNums(arr):\n",
    "    return int(\"\".join([str(x) for x in arr]))\n",
    "\n",
    "def getConcatTimeAndRecord(data):\n",
    "    arrs = parseTimeAndDistance(data)\n",
    "    return [concatNums(arrs[0]), concatNums(arrs[1])]"
   ]
  },
  {
   "cell_type": "markdown",
   "metadata": {},
   "source": [
    "### Solution"
   ]
  },
  {
   "cell_type": "code",
   "execution_count": 100,
   "metadata": {},
   "outputs": [],
   "source": [
    "def solvePartTwo(data):\n",
    "    time, record = getConcatTimeAndRecord(data)\n",
    "    winning_presses = getWinningPresses(time, record)\n",
    "    return len(winning_presses)\n"
   ]
  },
  {
   "cell_type": "code",
   "execution_count": 101,
   "metadata": {},
   "outputs": [
    {
     "data": {
      "text/plain": [
       "28101347"
      ]
     },
     "execution_count": 101,
     "metadata": {},
     "output_type": "execute_result"
    }
   ],
   "source": [
    "solvePartTwo(data)"
   ]
  }
 ],
 "metadata": {
  "kernelspec": {
   "display_name": "Python 3",
   "language": "python",
   "name": "python3"
  },
  "language_info": {
   "codemirror_mode": {
    "name": "ipython",
    "version": 3
   },
   "file_extension": ".py",
   "mimetype": "text/x-python",
   "name": "python",
   "nbconvert_exporter": "python",
   "pygments_lexer": "ipython3",
   "version": "3.11.6"
  }
 },
 "nbformat": 4,
 "nbformat_minor": 2
}
