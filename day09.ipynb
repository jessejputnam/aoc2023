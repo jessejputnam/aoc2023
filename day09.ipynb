{
 "cells": [
  {
   "cell_type": "code",
   "execution_count": 3,
   "metadata": {},
   "outputs": [],
   "source": [
    "from lib.func import fetch, addArrItems"
   ]
  },
  {
   "cell_type": "code",
   "execution_count": 4,
   "metadata": {},
   "outputs": [],
   "source": [
    "def parseData(data):\n",
    "    return [[int(num) for num in row.split()] for row in data]\n",
    "data = parseData(fetch(9).split(\"\\n\"))"
   ]
  },
  {
   "cell_type": "markdown",
   "metadata": {},
   "source": [
    "## Functions"
   ]
  },
  {
   "cell_type": "code",
   "execution_count": 12,
   "metadata": {},
   "outputs": [],
   "source": [
    "def getDiffArr(arr):\n",
    "    return [(arr[i] - arr[i - 1]) for i in range(len(arr)) if i > 0]\n",
    "\n",
    "def hasOnlyZeroes(arr):\n",
    "    for num in arr:\n",
    "        if num:\n",
    "            return False\n",
    "    return True"
   ]
  },
  {
   "cell_type": "markdown",
   "metadata": {},
   "source": [
    "## Part 1"
   ]
  },
  {
   "cell_type": "markdown",
   "metadata": {},
   "source": [
    "### Functions"
   ]
  },
  {
   "cell_type": "code",
   "execution_count": 13,
   "metadata": {},
   "outputs": [],
   "source": [
    "def getNextValue(row):\n",
    "    output = 0\n",
    "    while not hasOnlyZeroes(row):\n",
    "        output += row[-1]\n",
    "        row = getDiffArr(row)\n",
    "    return output"
   ]
  },
  {
   "cell_type": "markdown",
   "metadata": {},
   "source": [
    "### Solution"
   ]
  },
  {
   "cell_type": "code",
   "execution_count": 1,
   "metadata": {},
   "outputs": [],
   "source": [
    "def solvePart1(data):\n",
    "    arr = [getNextValue(row) for row in data]\n",
    "    return addArrItems(arr)\n",
    "\n",
    "solvePart1(data)"
   ]
  },
  {
   "cell_type": "markdown",
   "metadata": {},
   "source": [
    "## Part 2"
   ]
  },
  {
   "cell_type": "markdown",
   "metadata": {},
   "source": [
    "### Functions"
   ]
  },
  {
   "cell_type": "code",
   "execution_count": 16,
   "metadata": {},
   "outputs": [],
   "source": [
    "def getPreviousValue(row):\n",
    "    idxs = []\n",
    "    while not hasOnlyZeroes(row):\n",
    "        idxs.append(row[0])\n",
    "        row = getDiffArr(row)\n",
    "    \n",
    "    output = idxs[-1]\n",
    "    for i in range(len(idxs) - 1, 0, -1):\n",
    "        output = idxs[i - 1] - output\n",
    "    \n",
    "    return output"
   ]
  },
  {
   "cell_type": "markdown",
   "metadata": {},
   "source": [
    "### Solution"
   ]
  },
  {
   "cell_type": "code",
   "execution_count": 17,
   "metadata": {},
   "outputs": [],
   "source": [
    "def solvePart2(data):\n",
    "    arr = [getPreviousValue(row) for row in data]\n",
    "    return addArrItems(arr)\n",
    "\n",
    "solvePart2(data)"
   ]
  }
 ],
 "metadata": {
  "kernelspec": {
   "display_name": "Python 3",
   "language": "python",
   "name": "python3"
  },
  "language_info": {
   "codemirror_mode": {
    "name": "ipython",
    "version": 3
   },
   "file_extension": ".py",
   "mimetype": "text/x-python",
   "name": "python",
   "nbconvert_exporter": "python",
   "pygments_lexer": "ipython3",
   "version": "3.11.6"
  }
 },
 "nbformat": 4,
 "nbformat_minor": 2
}
