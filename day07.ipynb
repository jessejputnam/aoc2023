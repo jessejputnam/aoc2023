{
 "cells": [
  {
   "cell_type": "code",
   "execution_count": 1,
   "metadata": {},
   "outputs": [],
   "source": [
    "import math\n",
    "from lib.func import fetch, reduce"
   ]
  },
  {
   "cell_type": "code",
   "execution_count": 47,
   "metadata": {},
   "outputs": [],
   "source": [
    "data = '''32T3K 765\n",
    "T55J5 684\n",
    "KK677 28\n",
    "KTJJT 220\n",
    "QQQJA 483'''.split(\"\\n\")"
   ]
  },
  {
   "cell_type": "code",
   "execution_count": 49,
   "metadata": {},
   "outputs": [],
   "source": [
    "data = fetch(7).split(\"\\n\")"
   ]
  },
  {
   "cell_type": "markdown",
   "metadata": {},
   "source": [
    "### Functions"
   ]
  },
  {
   "cell_type": "code",
   "execution_count": 44,
   "metadata": {},
   "outputs": [],
   "source": [
    "def buildPlayer(row):\n",
    "    # Build player object from row data\n",
    "    hand, wager = row.split()\n",
    "    return { \"hand\": hand, \"wager\": int(wager) }\n",
    "\n",
    "def getCardValue(card, joker):\n",
    "    # Get card value for comparison\n",
    "    val = { \"2\": 2, \"3\": 3, \"4\": 4, \"5\": 5, \"6\": 6, \"7\": 7, \"8\": 8, \"9\": 9, \"T\": 10, \"J\": (11 if not joker else 1) , \"Q\": 12, \"K\": 13, \"A\": 14 }\n",
    "    return val[card]\n",
    "\n",
    "def updateCardCount(cards, card):\n",
    "    # Update card count when sorting for hand value\n",
    "    if not cards.get(card):\n",
    "        cards[card] = 0\n",
    "    cards[card] += 1\n",
    "\n",
    "def getHandIndex(card_counts):\n",
    "    # Get hand idx by hand value\n",
    "    val = card_counts[0]\n",
    "\n",
    "    # Get values that are appropriate to order\n",
    "    if len(card_counts) > 1:\n",
    "        val += 0 if card_counts[1] == 1 else 0.5\n",
    "\n",
    "    # Convert the order to be integers 0-6 for array idx later\n",
    "    x = int(val * 2) - 2 if val < 5 else 7\n",
    "    return x if not x else x - 1\n",
    "\n",
    "def getCardToAddJokers(cards):\n",
    "    # Get most populous card to which Joker numbers will be added\n",
    "    most = 0\n",
    "    most_card = None\n",
    "\n",
    "    keys = list(cards)\n",
    "\n",
    "    for key in keys:\n",
    "        if cards[key] > most:\n",
    "            most = cards[key]\n",
    "            most_card = key\n",
    "\n",
    "    return most_card\n",
    "\n",
    "def getSortedCardCounts(hand, joker):\n",
    "    # Get the index for the given hand after sorting\n",
    "    cards = {}\n",
    "    for card in hand:\n",
    "        updateCardCount(cards, card)\n",
    "    \n",
    "    # If joker rules in place\n",
    "    if joker:\n",
    "        if cards.get(\"J\"):\n",
    "            count = cards.pop(\"J\")\n",
    "            c = getCardToAddJokers(cards)\n",
    "            if not c:\n",
    "                c = \"J\"\n",
    "                cards[c] = 0\n",
    "            cards[c] = cards[c] + count\n",
    "\n",
    "    return sorted(list(cards.values()), reverse=True)\n",
    "\n",
    "def compareHands(player0, player1, joker):\n",
    "    # Return 0 if player0 has a hand of higher value, 1 if player1 does\n",
    "    for i in range(len(player0['hand'])):\n",
    "        if getCardValue(player0['hand'][i], joker) > getCardValue(player1['hand'][i], joker):\n",
    "            return 0\n",
    "        if getCardValue(player0['hand'][i], joker) < getCardValue(player1['hand'][i], joker):\n",
    "            return 1\n",
    "\n",
    "def insertPlayerSorted(players, player, joker):\n",
    "    # Binary search of objects placing higher ranking to the right\n",
    "    lo, hi = [0, len(players) - 1]\n",
    "\n",
    "    while lo < hi:\n",
    "        mid = math.floor((hi - lo) / 2) + lo\n",
    "        if not compareHands(players[mid], player, joker):\n",
    "            hi = mid - 1\n",
    "        else:\n",
    "            lo = mid + 1\n",
    "\n",
    "    playerIsHigher = not compareHands(players[lo], player, joker)\n",
    "    players.insert(lo + (0 if playerIsHigher else 1), player)\n",
    "\n",
    "def sortPlayerIntoHands(hands, player, joker=False):\n",
    "    # Sort current player into appropriate hand index\n",
    "    card_counts = getSortedCardCounts(player['hand'], joker)\n",
    "    hand_idx = getHandIndex(card_counts)\n",
    "\n",
    "    if not hands[hand_idx]:\n",
    "        hands[hand_idx] = [player]\n",
    "    else:\n",
    "        insertPlayerSorted(hands[hand_idx], player, joker)\n",
    "\n",
    "def buildFinalPlayerArray(hands):\n",
    "    # Flatten array of arrays, ignore empty indexes\n",
    "    arr = []\n",
    "    for hand in hands:\n",
    "        if hand:\n",
    "            for player in hand:\n",
    "                arr.append(player)\n",
    "    return arr\n"
   ]
  },
  {
   "cell_type": "markdown",
   "metadata": {},
   "source": [
    "### Solution"
   ]
  },
  {
   "cell_type": "code",
   "execution_count": 57,
   "metadata": {},
   "outputs": [],
   "source": [
    "def solveDay07(data, part=1):\n",
    "    hands = [None] * 7\n",
    "    \n",
    "    for row in data:\n",
    "        player = buildPlayer(row)\n",
    "        sortPlayerIntoHands(hands, player, joker=(part==2))\n",
    "\n",
    "    arr = buildFinalPlayerArray(hands)\n",
    "\n",
    "    winnings_arr = [player['wager'] * (i + 1) for i, player in enumerate(arr)]\n",
    "    return reduce(winnings_arr)\n",
    "    "
   ]
  },
  {
   "cell_type": "code",
   "execution_count": 56,
   "metadata": {},
   "outputs": [
    {
     "data": {
      "text/plain": [
       "254412181"
      ]
     },
     "execution_count": 56,
     "metadata": {},
     "output_type": "execute_result"
    }
   ],
   "source": [
    "solveDay07(data, part=2)"
   ]
  }
 ],
 "metadata": {
  "kernelspec": {
   "display_name": "Python 3",
   "language": "python",
   "name": "python3"
  },
  "language_info": {
   "codemirror_mode": {
    "name": "ipython",
    "version": 3
   },
   "file_extension": ".py",
   "mimetype": "text/x-python",
   "name": "python",
   "nbconvert_exporter": "python",
   "pygments_lexer": "ipython3",
   "version": "3.11.6"
  }
 },
 "nbformat": 4,
 "nbformat_minor": 2
}
