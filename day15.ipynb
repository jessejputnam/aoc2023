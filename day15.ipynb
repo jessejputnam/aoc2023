{
 "cells": [
  {
   "cell_type": "code",
   "execution_count": 2,
   "metadata": {},
   "outputs": [],
   "source": [
    "from lib.func import fetch, addArrItems"
   ]
  },
  {
   "cell_type": "code",
   "execution_count": 3,
   "metadata": {},
   "outputs": [],
   "source": [
    "data = fetch(15).split(',')"
   ]
  },
  {
   "cell_type": "markdown",
   "metadata": {},
   "source": [
    "### Functions"
   ]
  },
  {
   "cell_type": "code",
   "execution_count": 14,
   "metadata": {},
   "outputs": [],
   "source": [
    "# Get integer value from hashed string\n",
    "def getHashVal(s):\n",
    "    val = 0\n",
    "    for char in s:\n",
    "        val = ((val + ord(char)) * 17) % 256\n",
    "    \n",
    "    return val"
   ]
  },
  {
   "cell_type": "markdown",
   "metadata": {},
   "source": [
    "## Part 1"
   ]
  },
  {
   "cell_type": "markdown",
   "metadata": {},
   "source": [
    "### Solution"
   ]
  },
  {
   "cell_type": "code",
   "execution_count": 5,
   "metadata": {},
   "outputs": [
    {
     "data": {
      "text/plain": [
       "515210"
      ]
     },
     "execution_count": 5,
     "metadata": {},
     "output_type": "execute_result"
    }
   ],
   "source": [
    "def solvePart1(data):\n",
    "    return addArrItems([getHashVal(step) for step in data])\n",
    "\n",
    "solvePart1(data)"
   ]
  },
  {
   "cell_type": "markdown",
   "metadata": {},
   "source": [
    "## Part 2"
   ]
  },
  {
   "cell_type": "markdown",
   "metadata": {},
   "source": [
    "### Functions"
   ]
  },
  {
   "cell_type": "code",
   "execution_count": 15,
   "metadata": {},
   "outputs": [],
   "source": [
    "# Return step as array: [label, lens_length]\n",
    "def getLabelLens(step):\n",
    "    if isDash(step):\n",
    "        return [step[:-1], None]\n",
    "    return [step.split('=')[0], int(step.split('=')[1])]\n",
    "\n",
    "\n",
    "# Check if step is a dash (i.e. remove) step\n",
    "def isDash(step):\n",
    "    return step[-1] == '-'\n",
    "\n",
    "\n",
    "# Find the box index in which label belongs\n",
    "def findIdx(box, label):\n",
    "    for i, lens in enumerate(box):\n",
    "        if lens[0] == label:\n",
    "            return i\n",
    "    return -1\n",
    "\n",
    "\n",
    "# Peform the operation as defined for 'dash' symbol\n",
    "def performDash(box, idx):\n",
    "    if idx > -1:\n",
    "        box.pop(idx)\n",
    "\n",
    "\n",
    "# Perform the operation as defined for 'equals' symbol\n",
    "def performEquals(box, idx, label, lens):\n",
    "    if idx == -1:\n",
    "        box.append([label, lens])\n",
    "    box[idx][1] = int(lens)\n",
    "\n",
    "\n",
    "# Route step to correct operation\n",
    "def performOperation(box, idx, label, lens):\n",
    "    if lens:\n",
    "        return performEquals(box, idx, label, lens)\n",
    "    performDash(box, idx)\n",
    "\n",
    "\n",
    "# Get focusing power value for individual step\n",
    "def getStepFocusingPower(box_power, slot_power, focal_power):\n",
    "    return box_power * slot_power * focal_power\n",
    "\n",
    "\n",
    "# Get focusing power value for box\n",
    "def getBoxFocusingPower(box, box_idx):\n",
    "    total = 0\n",
    "    box_power = box_idx + 1\n",
    "\n",
    "    for i, lens in enumerate(box):\n",
    "        total += getStepFocusingPower(box_power, i + 1, lens[1])\n",
    "    return total"
   ]
  },
  {
   "cell_type": "markdown",
   "metadata": {},
   "source": [
    "### Solution"
   ]
  },
  {
   "cell_type": "code",
   "execution_count": 16,
   "metadata": {},
   "outputs": [
    {
     "data": {
      "text/plain": [
       "246762"
      ]
     },
     "execution_count": 16,
     "metadata": {},
     "output_type": "execute_result"
    }
   ],
   "source": [
    "def solvePart2(data):\n",
    "    boxes = [[] for x in range(256)]\n",
    "\n",
    "    for step in data:\n",
    "        label, lens = getLabelLens(step)\n",
    "        box = boxes[getHashVal(label)]\n",
    "        idx = findIdx(box, label)\n",
    "\n",
    "        performOperation(box, idx, label, lens)\n",
    "\n",
    "        total = 0\n",
    "        for i, box in enumerate(boxes):\n",
    "            total += getBoxFocusingPower(box, i)\n",
    "\n",
    "    return total\n",
    "\n",
    "solvePart2(data)"
   ]
  }
 ],
 "metadata": {
  "kernelspec": {
   "display_name": "Python 3",
   "language": "python",
   "name": "python3"
  },
  "language_info": {
   "codemirror_mode": {
    "name": "ipython",
    "version": 3
   },
   "file_extension": ".py",
   "mimetype": "text/x-python",
   "name": "python",
   "nbconvert_exporter": "python",
   "pygments_lexer": "ipython3",
   "version": "3.11.6"
  }
 },
 "nbformat": 4,
 "nbformat_minor": 2
}
