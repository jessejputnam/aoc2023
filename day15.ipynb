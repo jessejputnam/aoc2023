{
 "cells": [
  {
   "cell_type": "code",
   "execution_count": 18,
   "metadata": {},
   "outputs": [],
   "source": [
    "from lib.func import fetch, addArrItems"
   ]
  },
  {
   "cell_type": "code",
   "execution_count": 105,
   "metadata": {},
   "outputs": [],
   "source": [
    "data = fetch(15).split(',')"
   ]
  },
  {
   "cell_type": "markdown",
   "metadata": {},
   "source": [
    "### Functions"
   ]
  },
  {
   "cell_type": "code",
   "execution_count": 50,
   "metadata": {},
   "outputs": [],
   "source": [
    "def getHashVal(s):\n",
    "    val = 0\n",
    "\n",
    "    for char in s:\n",
    "        val += ord(char)\n",
    "        val *= 17\n",
    "        val = val % 256\n",
    "    \n",
    "    return val"
   ]
  },
  {
   "cell_type": "markdown",
   "metadata": {},
   "source": [
    "## Part 1"
   ]
  },
  {
   "cell_type": "markdown",
   "metadata": {},
   "source": [
    "### Solution"
   ]
  },
  {
   "cell_type": "code",
   "execution_count": 47,
   "metadata": {},
   "outputs": [],
   "source": [
    "def solvePart1(data):\n",
    "    return addArrItems([getHashVal(step) for step in data])"
   ]
  },
  {
   "cell_type": "code",
   "execution_count": 48,
   "metadata": {},
   "outputs": [
    {
     "data": {
      "text/plain": [
       "1320"
      ]
     },
     "execution_count": 48,
     "metadata": {},
     "output_type": "execute_result"
    }
   ],
   "source": [
    "solvePart1(data)"
   ]
  },
  {
   "cell_type": "markdown",
   "metadata": {},
   "source": [
    "## Part 2"
   ]
  },
  {
   "cell_type": "markdown",
   "metadata": {},
   "source": [
    "### Functions"
   ]
  },
  {
   "cell_type": "code",
   "execution_count": 102,
   "metadata": {},
   "outputs": [],
   "source": [
    "def getLabelLens(step):\n",
    "    if isDash(step):\n",
    "        return [step[:-1], None]\n",
    "    return [step.split('=')[0], int(step.split('=')[1])]\n",
    "\n",
    "def isDash(step):\n",
    "    return step[-1] == '-'\n",
    "\n",
    "\n",
    "def findIdx(box, label):\n",
    "    for i, lens in enumerate(box):\n",
    "        if lens[0] == label:\n",
    "            return i\n",
    "    return -1\n",
    "\n",
    "\n",
    "def performDash(box, idx):\n",
    "    if idx > -1:\n",
    "        box.pop(idx)\n",
    "\n",
    "\n",
    "def performEquals(box, idx, label, lens):\n",
    "    if idx == -1:\n",
    "        box.append([label, lens])\n",
    "    else:\n",
    "        box[idx][1] = int(lens)\n",
    "\n",
    "\n",
    "def performOperation(box, idx, label, lens):\n",
    "    if lens:\n",
    "        return performEquals(box, idx, label, lens)\n",
    "    performDash(box, idx)\n",
    "\n",
    "\n",
    "def getBoxFocusingPower(box, box_idx):\n",
    "    total = 0\n",
    "    box_power = box_idx + 1\n",
    "\n",
    "    for i, lens in enumerate(box):\n",
    "        slot_power = i + 1\n",
    "        focal_power = lens[1]\n",
    "        total += box_power * slot_power * focal_power\n",
    "    return total"
   ]
  },
  {
   "cell_type": "markdown",
   "metadata": {},
   "source": [
    "### Solution"
   ]
  },
  {
   "cell_type": "code",
   "execution_count": 103,
   "metadata": {},
   "outputs": [],
   "source": [
    "def solvePart2(data):\n",
    "    boxes = [[] for x in range(256)]\n",
    "\n",
    "    for step in data:\n",
    "        label, lens = getLabelLens(step)\n",
    "        box = boxes[getHashVal(label)]\n",
    "        idx = findIdx(box, label)\n",
    "\n",
    "        performOperation(box, idx, label, lens)\n",
    "\n",
    "        total = 0\n",
    "        for i, box in enumerate(boxes):\n",
    "            total += getBoxFocusingPower(box, i)\n",
    "\n",
    "    return total\n"
   ]
  },
  {
   "cell_type": "code",
   "execution_count": 106,
   "metadata": {},
   "outputs": [
    {
     "data": {
      "text/plain": [
       "246762"
      ]
     },
     "execution_count": 106,
     "metadata": {},
     "output_type": "execute_result"
    }
   ],
   "source": [
    "solvePart2(data)"
   ]
  }
 ],
 "metadata": {
  "kernelspec": {
   "display_name": "Python 3",
   "language": "python",
   "name": "python3"
  },
  "language_info": {
   "codemirror_mode": {
    "name": "ipython",
    "version": 3
   },
   "file_extension": ".py",
   "mimetype": "text/x-python",
   "name": "python",
   "nbconvert_exporter": "python",
   "pygments_lexer": "ipython3",
   "version": "3.11.6"
  }
 },
 "nbformat": 4,
 "nbformat_minor": 2
}
